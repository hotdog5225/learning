{
 "cells": [
  {
   "cell_type": "code",
   "execution_count": null,
   "id": "a667333d-7ca0-4f59-b5bc-bc9d38f14274",
   "metadata": {},
   "outputs": [],
   "source": [
    "import pandas as pd\n",
    "\n",
    "train = pd.read_csv(\"train.csv\", index_col=0)\n",
    "test = test_pd = pd.read_csv(\"test.csv\", index_col=0)\n",
    "\n",
    "\n",
    "# print(train['Attrition'].value_counts())\n",
    "# 处理Attrition字段\n",
    "train[\"Attrition\"] = train[\"Attrition\"].map(lambda x: 1 if x == \"Yes\" else 0)\n",
    "\n",
    "\n",
    "# 查看数据是否有空值\n",
    "# print(train.isna().sum())\n",
    "\n",
    "# 去掉没用的列 员工号码，标准工时（=80）\n",
    "train = train.drop([\"EmployeeNumber\", \"StandardHours\"], axis=1)\n",
    "test = test.drop([\"EmployeeNumber\", \"StandardHours\"], axis=1)\n",
    "\n",
    "\n",
    "from sklearn.preprocessing import LabelEncoder\n",
    "\n",
    "# 对于分类特征进行特征值编码\n",
    "attr = [\n",
    "    \"Age\",\n",
    "    \"BusinessTravel\",\n",
    "    \"Department\",\n",
    "    \"Education\",\n",
    "    \"EducationField\",\n",
    "    \"Gender\",\n",
    "    \"JobRole\",\n",
    "    \"MaritalStatus\",\n",
    "    \"Over18\",\n",
    "    \"OverTime\",\n",
    "]\n",
    "lbe_list = []\n",
    "for feature in attr:\n",
    "    lbe = LabelEncoder()\n",
    "    train[feature] = lbe.fit_transform(train[feature])\n",
    "    test[feature] = lbe.transform(test[feature])\n",
    "    lbe_list.append(lbe)\n",
    "\n",
    "# print(train)"
   ]
  },
  {
   "cell_type": "code",
   "execution_count": null,
   "id": "7f709a13-1ad8-4782-9522-7bb9ecedbefa",
   "metadata": {},
   "outputs": [],
   "source": [
    "from sklearn.model_selection import train_test_split\n",
    "\n",
    "X_train, X_valid, y_train, y_valid = train_test_split(\n",
    "    train.drop(\"Attrition\", axis=1), train[\"Attrition\"], test_size=0.2, random_state=42\n",
    ")\n",
    "\n",
    "X_train.head()"
   ]
  },
  {
   "cell_type": "code",
   "execution_count": null,
   "id": "38d4a68d-4265-434a-9afc-35de48dbfa66",
   "metadata": {},
   "outputs": [],
   "source": [
    "from sklearn.preprocessing import MinMaxScaler\n",
    "\n",
    "# feature_range=(0, 1) 归一化后的范围\n",
    "mms = MinMaxScaler(feature_range=(0, 1))\n",
    "X_train = mms.fit_transform(X_train)\n",
    "X_valid = mms.fit_transform(X_valid)\n",
    "test = mms.fit_transform(test)"
   ]
  },
  {
   "cell_type": "code",
   "execution_count": null,
   "id": "49f2b401-bef4-4d98-8121-ef5ce17ea59f",
   "metadata": {},
   "outputs": [],
   "source": [
    "from sklearn.svm import SVC, LinearSVC\n",
    "\n",
    "# 非线性\n",
    "model = SVC(\n",
    "    kernel=\"rbf\",\n",
    "    gamma=\"auto\",\n",
    "    max_iter=1000,\n",
    "    random_state=33,\n",
    "    verbose=True,\n",
    "    tol=1e-5,\n",
    "    cache_size=50000,\n",
    ")\n",
    "\n",
    "\n",
    "# 线性\n",
    "model = LinearSVC(max_iter=1000, random_state=33, verbose=True,)\n",
    "\n",
    "\n",
    "model.fit(X_train, y_train)\n",
    "predict = model.predict(test)\n",
    "\n",
    "# predict = model.predict_proba(test)[:, 1]\n",
    "\n",
    "test_pd[\"Attrition\"] = predict\n",
    "\n",
    "# 转化为二分类输出\n",
    "# test_pd['Attrition']=test_pd['Attrition'].map(lambda x:1 if x>=0.5 else 0)\n",
    "\n",
    "test_pd[[\"Attrition\"]].to_csv(\"submit_svc.csv\")"
   ]
  },
  {
   "cell_type": "code",
   "execution_count": null,
   "id": "4987244d-70f3-4fb4-9ac1-0b149d48d749",
   "metadata": {},
   "outputs": [],
   "source": []
  }
 ],
 "metadata": {
  "kernelspec": {
   "display_name": "Python 3",
   "language": "python",
   "name": "python3"
  },
  "language_info": {
   "codemirror_mode": {
    "name": "ipython",
    "version": 3
   },
   "file_extension": ".py",
   "mimetype": "text/x-python",
   "name": "python",
   "nbconvert_exporter": "python",
   "pygments_lexer": "ipython3",
   "version": "3.8.8"
  }
 },
 "nbformat": 4,
 "nbformat_minor": 5
}
