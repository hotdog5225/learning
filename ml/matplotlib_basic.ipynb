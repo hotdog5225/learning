{
 "cells": [
  {
   "cell_type": "markdown",
   "id": "362e625c-3306-4f53-891e-67423bb983ae",
   "metadata": {},
   "source": [
    "# DataFrame.plot 参数详解\n",
    "\n",
    "[【python】详解pandas.DataFrame.plot( )画图函数](https://blog.csdn.net/brucewong0516/article/details/80524442)"
   ]
  },
  {
   "cell_type": "markdown",
   "id": "ed459634-8533-4688-a683-3e72088aa762",
   "metadata": {},
   "source": [
    "# matplotlib"
   ]
  },
  {
   "cell_type": "markdown",
   "id": "14b914ab-dfb3-4bab-ac22-c2558c0df4dc",
   "metadata": {},
   "source": [
    "`%matplotlib inline`\n",
    "\n",
    "- Jupyter notebook 中的魔法命令 ，在下面的代码模块里面都可以不用写 plt.show()\n",
    "- 不加的话, 会是一个弹窗的形式\n",
    "\n",
    "\n",
    "`%config InlineBackend.figure_format = “svg\"`\n",
    "\n",
    "- Jupyter notebook 中的魔法命令 ，可以设定显示图片的分辨率\n"
   ]
  },
  {
   "cell_type": "code",
   "execution_count": 1,
   "id": "eb8ac5a4-c560-4308-a427-959cb00e13cc",
   "metadata": {
    "collapsed": true,
    "jupyter": {
     "outputs_hidden": true
    },
    "tags": []
   },
   "outputs": [
    {
     "ename": "NameError",
     "evalue": "name 'train_x' is not defined",
     "output_type": "error",
     "traceback": [
      "\u001b[0;31m---------------------------------------------------------------------------\u001b[0m",
      "\u001b[0;31mNameError\u001b[0m                                 Traceback (most recent call last)",
      "\u001b[0;32m<ipython-input-1-5cc15eca4939>\u001b[0m in \u001b[0;36m<module>\u001b[0;34m\u001b[0m\n\u001b[1;32m      3\u001b[0m \u001b[0;34m\u001b[0m\u001b[0m\n\u001b[1;32m      4\u001b[0m \u001b[0;34m\u001b[0m\u001b[0m\n\u001b[0;32m----> 5\u001b[0;31m \u001b[0mplt\u001b[0m\u001b[0;34m.\u001b[0m\u001b[0mimshow\u001b[0m\u001b[0;34m(\u001b[0m\u001b[0mtrain_x\u001b[0m\u001b[0;34m[\u001b[0m\u001b[0;36m0\u001b[0m\u001b[0;34m]\u001b[0m\u001b[0;34m,\u001b[0m \u001b[0mcmap\u001b[0m\u001b[0;34m=\u001b[0m\u001b[0mplt\u001b[0m\u001b[0;34m.\u001b[0m\u001b[0mcm\u001b[0m\u001b[0;34m.\u001b[0m\u001b[0mgray\u001b[0m\u001b[0;34m)\u001b[0m\u001b[0;34m\u001b[0m\u001b[0;34m\u001b[0m\u001b[0m\n\u001b[0m",
      "\u001b[0;31mNameError\u001b[0m: name 'train_x' is not defined"
     ]
    }
   ],
   "source": [
    "%matplotlib inline\n",
    "import matplotlib.pyplot as plt\n",
    "\n",
    "\n",
    "plt.imshow(train_x[0], cmap=plt.cm.gray)"
   ]
  },
  {
   "cell_type": "code",
   "execution_count": null,
   "id": "b78db98f-8ec2-44b9-8e96-04aa2c922e94",
   "metadata": {},
   "outputs": [],
   "source": []
  }
 ],
 "metadata": {
  "kernelspec": {
   "display_name": "Python 3",
   "language": "python",
   "name": "python3"
  },
  "language_info": {
   "codemirror_mode": {
    "name": "ipython",
    "version": 3
   },
   "file_extension": ".py",
   "mimetype": "text/x-python",
   "name": "python",
   "nbconvert_exporter": "python",
   "pygments_lexer": "ipython3",
   "version": "3.8.8"
  }
 },
 "nbformat": 4,
 "nbformat_minor": 5
}
