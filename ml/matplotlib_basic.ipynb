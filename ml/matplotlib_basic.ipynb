{
 "cells": [
  {
   "cell_type": "markdown",
   "id": "14b914ab-dfb3-4bab-ac22-c2558c0df4dc",
   "metadata": {},
   "source": [
    "`%matplotlib inline`\n",
    "\n",
    "Jupyter notebook 中的魔法命令 ，在下面的代码模块里面都可以不用写 plt.show()\n",
    "`%config InlineBackend.figure_format = “svg\"`\n",
    "\n",
    "Jupyter notebook 中的魔法命令 ，可以设定显示图片的分辨率\n"
   ]
  },
  {
   "cell_type": "markdown",
   "id": "362e625c-3306-4f53-891e-67423bb983ae",
   "metadata": {},
   "source": [
    "# DataFrame.plot 参数详解\n",
    "\n",
    "[【python】详解pandas.DataFrame.plot( )画图函数](https://blog.csdn.net/brucewong0516/article/details/80524442)"
   ]
  },
  {
   "cell_type": "code",
   "execution_count": null,
   "id": "c175c90e-13d3-46ca-9082-a4b028485eac",
   "metadata": {},
   "outputs": [],
   "source": []
  }
 ],
 "metadata": {
  "kernelspec": {
   "display_name": "Python 3",
   "language": "python",
   "name": "python3"
  },
  "language_info": {
   "codemirror_mode": {
    "name": "ipython",
    "version": 3
   },
   "file_extension": ".py",
   "mimetype": "text/x-python",
   "name": "python",
   "nbconvert_exporter": "python",
   "pygments_lexer": "ipython3",
   "version": "3.8.8"
  }
 },
 "nbformat": 4,
 "nbformat_minor": 5
}
