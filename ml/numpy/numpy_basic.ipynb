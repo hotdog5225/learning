{
 "cells": [
  {
   "cell_type": "markdown",
   "id": "417bf63d",
   "metadata": {},
   "source": [
    "# 从list创建数组"
   ]
  },
  {
   "cell_type": "code",
   "execution_count": 42,
   "id": "3c45f968",
   "metadata": {},
   "outputs": [
    {
     "name": "stdout",
     "output_type": "stream",
     "text": [
      "[1 2 3 4]\n",
      "(4,)\n",
      "<class 'numpy.ndarray'>\n",
      "<class 'numpy.int64'>\n",
      "[1. 2. 3. 4.]\n",
      "1.0\n",
      "<class 'numpy.float32'>\n"
     ]
    },
    {
     "data": {
      "text/plain": [
       "array([[1, 2],\n",
       "       [3, 4],\n",
       "       [5, 6]])"
      ]
     },
     "execution_count": 42,
     "metadata": {},
     "output_type": "execute_result"
    }
   ],
   "source": [
    "import numpy as np\n",
    "\n",
    "# 从列表list创建一维数组\n",
    "x = np.array([1,2,3,4])\n",
    "print(x)\n",
    "print(x.shape)\n",
    "print(type(x))\n",
    "print(type(x[0]))\n",
    "                            # [1 2 3 4]\n",
    "                            # (4,)\n",
    "                            # <class 'numpy.ndarray'>\n",
    "                            # <class 'numpy.int64'>\n",
    "                \n",
    "\n",
    "# 指定数组元素数据类型 (numpy的数组的类型必须一致)\n",
    "x = np.array([1,2,3,4], dtype=\"float32\")\n",
    "print(x)\n",
    "print(x[0])\n",
    "print(type(x[0]))\n",
    "                            # [1. 2. 3. 4.]\n",
    "                            # 1.0\n",
    "                            # <class 'numpy.float32'>\n",
    "            \n",
    "\n",
    "# 从列表创建二维数组\n",
    "x = np.array([\n",
    "    [1,2],\n",
    "    [3,4],\n",
    "    [5,6]\n",
    "])\n",
    "x\n"
   ]
  },
  {
   "cell_type": "markdown",
   "id": "81478474",
   "metadata": {},
   "source": [
    "# 从无到有创建数组"
   ]
  },
  {
   "cell_type": "code",
   "execution_count": 44,
   "id": "5e97e047",
   "metadata": {
    "collapsed": true
   },
   "outputs": [
    {
     "name": "stdout",
     "output_type": "stream",
     "text": [
      "[[0 0]\n",
      " [0 0]\n",
      " [0 0]]\n",
      "[[1. 1. 1. 1.]\n",
      " [1. 1. 1. 1.]]\n",
      "[[8 8 8 8 8]\n",
      " [8 8 8 8 8]\n",
      " [8 8 8 8 8]]\n",
      "[[1. 0. 0.]\n",
      " [0. 1. 0.]\n",
      " [0. 0. 1.]]\n",
      "[ 1.  3.  5.  7.  9. 11. 13.]\n",
      "[0.         0.33333333 0.66666667 1.        ]\n",
      "[1.e+00 1.e+01 1.e+02 1.e+03 1.e+04 1.e+05 1.e+06 1.e+07 1.e+08 1.e+09]\n",
      "[[0.0915499  0.17257293 0.78759675]\n",
      " [0.83905373 0.68367047 0.96821397]\n",
      " [0.23220003 0.21253333 0.45679469]]\n",
      "[[-0.72734884 -1.10280879 -0.4037212 ]\n",
      " [ 0.18631626  2.10767009 -0.21621187]\n",
      " [ 0.39647397 -1.01305417  0.79431694]]\n",
      "[1 2 3 4]\n",
      "[1 4 2 3]\n"
     ]
    },
    {
     "data": {
      "text/plain": [
       "array([[13., 17., 22.],\n",
       "       [10., 19., 23.],\n",
       "       [18., 10., 24.],\n",
       "       [16., 24., 24.]])"
      ]
     },
     "execution_count": 44,
     "metadata": {},
     "output_type": "execute_result"
    }
   ],
   "source": [
    "import numpy as np\n",
    "\n",
    "\n",
    "# 创建长度为5, 值为0的数组\n",
    "x = np.zeros(shape=(3,2), dtype=int)\n",
    "print(x)\n",
    "                                    # [[0 0]\n",
    "                                    #  [0 0]\n",
    "                                    #  [0 0]]\n",
    "\n",
    "# 创建一个2*4的浮点型数组, 值都为1\n",
    "x = np.ones(shape=(2, 4), dtype=float)\n",
    "print(x)\n",
    "                                    # [[1. 1. 1. 1.]\n",
    "                                    #  [1. 1. 1. 1.]]\n",
    "        \n",
    "# 创建一个3*5的数组, 值都是8\n",
    "x = np.full(shape=(3,5), fill_value=8)\n",
    "print(x)\n",
    "                                    # [[8 8 8 8 8]\n",
    "                                    #  [8 8 8 8 8]\n",
    "                                    #  [8 8 8 8 8]]\n",
    "            \n",
    "# 创建一个3*3的单位矩阵\n",
    "x = np.eye(3)\n",
    "print(x)\n",
    "                                    # [[1. 0. 0.]\n",
    "                                    #  [0. 1. 0.]\n",
    "                                    #  [0. 0. 1.]]\n",
    "            \n",
    "# 创建一个线性的序列数组: [1, 15), 步长为2\n",
    "x = np.arange(start=1, stop=15, step=2, dtype=float)\n",
    "print(x)                            # [ 1  3  5  7  9 11 13]\n",
    "\n",
    "\n",
    "# 创建一个等差数列: 4个元素, 将[0,1]等分成三份\n",
    "x = np.linspace(start=0, stop=1, num=4)\n",
    "print(x)  \n",
    "                                    # [0.         0.33333333 0.66666667 1.        ]\n",
    "    \n",
    "# 创建一个等比数列, 从10^0 - 10^9次方, 等比的产生10个数\n",
    "x = np.logspace(start=0, stop=9, num=10, base=10.0)\n",
    "print(x)\n",
    "                                    # [1.e+00 1.e+01 1.e+02 1.e+03 1.e+04 1.e+05 1.e+06 1.e+07 1.e+08 1.e+09]\n",
    "    \n",
    "# 创建一个3*3数组, 元素为[0.0, 1.0)之间的均匀分布的随机数\n",
    "x = np.random.random(size=(3,3))\n",
    "print(x)\n",
    "                                    # [[0.3478194  0.15451001 0.62584392]\n",
    "                                    #  [0.51606038 0.896537   0.32470517]\n",
    "                                    #  [0.75745009 0.09068659 0.61374355]]\n",
    "            \n",
    "# 创建一个3*3的数组, 元素为均值为0, 标准差为1的正态分布随机数\n",
    "x = np.random.normal(loc=0, scale=1, size=(3,3))\n",
    "print(x)\n",
    "                                    # [[-0.22689727  0.68675925  0.91156604]\n",
    "                                    #  [ 0.57008821  0.74461085 -0.28911141]\n",
    "                                    #  [ 0.22316875  0.67762701 -0.45709427]]\n",
    "            \n",
    "# 创建一个3*3的数组, 元素的取值是[0-10)的随机整数\n",
    "np.random.randint(low=0, high=10, size=(3, 3))\n",
    "                                    # array([[0, 7, 0],\n",
    "                                    #        [1, 2, 5],\n",
    "                                    #        [4, 8, 8]])\n",
    "            \n",
    "# 将列表进行随机重排列\n",
    "x = np.array([1,2,3,4])\n",
    "np.random.permutation(x)\n",
    "                                    # array([2, 1, 3, 4])\n",
    "print(x)                            # [1 2 3 4] # permutation不会改变原数组\n",
    "\n",
    "\n",
    "np.random.shuffle(x)\n",
    "print(x)                            # [3 1 4 2] # shuffle会改变原数组\n",
    "\n",
    "\n",
    "# 从数组中随机采样\n",
    "x = np.arange(10, 25, dtype=float)\n",
    "# 从1-D数组中进行采样, 采样4*3=12次, 构成一个4*3的数组\n",
    "np.random.choice(x, size=(4,3))\n",
    "                                    # array([[16., 13., 23.],\n",
    "                                    #        [22., 23., 14.],\n",
    "                                    #        [17., 24., 22.],\n",
    "                                    #        [23., 18., 20.]])\n",
    "# 针对1-D数组中的采样, 同时设置1-D数组中个元素的的采样概率\n",
    "np.random.choice(x, size=(4, 3), p=x/np.sum(x))\n",
    "                                    # array([[16., 15., 15.],\n",
    "                                    #        [11., 22., 22.],\n",
    "                                    #        [13., 20., 14.],\n",
    "                                    #        [13., 22., 22.]])"
   ]
  },
  {
   "cell_type": "markdown",
   "id": "c176df97",
   "metadata": {},
   "source": [
    "# numpy数组的性质"
   ]
  },
  {
   "cell_type": "code",
   "execution_count": 30,
   "id": "5ac45665",
   "metadata": {},
   "outputs": [
    {
     "data": {
      "text/plain": [
       "array([[2, 6, 3],\n",
       "       [9, 6, 5],\n",
       "       [8, 0, 8],\n",
       "       [4, 9, 9]])"
      ]
     },
     "execution_count": 30,
     "metadata": {},
     "output_type": "execute_result"
    }
   ],
   "source": [
    "import numpy as np\n",
    "\n",
    "# ∵high=None, 此时的取值就是[0, low)之间的整数\n",
    "x = np.random.randint(low=10,high=None, size=(4,3))\n",
    "x"
   ]
  },
  {
   "cell_type": "code",
   "execution_count": 31,
   "id": "9396181b",
   "metadata": {},
   "outputs": [
    {
     "data": {
      "text/plain": [
       "(4, 3)"
      ]
     },
     "execution_count": 31,
     "metadata": {},
     "output_type": "execute_result"
    }
   ],
   "source": [
    "# 数组的性状\n",
    "x.shape"
   ]
  },
  {
   "cell_type": "code",
   "execution_count": 33,
   "id": "0afca8f5",
   "metadata": {},
   "outputs": [
    {
     "data": {
      "text/plain": [
       "2"
      ]
     },
     "execution_count": 33,
     "metadata": {},
     "output_type": "execute_result"
    }
   ],
   "source": [
    "# 数组的维度\n",
    "x.ndim"
   ]
  },
  {
   "cell_type": "code",
   "execution_count": 35,
   "id": "8f9bdc05",
   "metadata": {},
   "outputs": [
    {
     "data": {
      "text/plain": [
       "15"
      ]
     },
     "execution_count": 35,
     "metadata": {},
     "output_type": "execute_result"
    }
   ],
   "source": [
    "# 数组的大小(元素个数)\n",
    "x.size"
   ]
  },
  {
   "cell_type": "code",
   "execution_count": 37,
   "id": "883de0c0",
   "metadata": {},
   "outputs": [
    {
     "data": {
      "text/plain": [
       "dtype('float64')"
      ]
     },
     "execution_count": 37,
     "metadata": {},
     "output_type": "execute_result"
    }
   ],
   "source": [
    "# 数组的元素类型\n",
    "x.dtype"
   ]
  },
  {
   "cell_type": "markdown",
   "id": "9a6a041c",
   "metadata": {},
   "source": [
    "# 数组索引"
   ]
  },
  {
   "cell_type": "code",
   "execution_count": null,
   "id": "901d3ec2",
   "metadata": {
    "collapsed": true
   },
   "outputs": [],
   "source": []
  }
 ],
 "metadata": {
  "kernelspec": {
   "display_name": "Python 3",
   "language": "python",
   "name": "python3"
  },
  "language_info": {
   "codemirror_mode": {
    "name": "ipython",
    "version": 3
   },
   "file_extension": ".py",
   "mimetype": "text/x-python",
   "name": "python",
   "nbconvert_exporter": "python",
   "pygments_lexer": "ipython3",
   "version": "3.8.8"
  }
 },
 "nbformat": 4,
 "nbformat_minor": 5
}
