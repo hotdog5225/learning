{
 "cells": [
  {
   "cell_type": "code",
   "execution_count": 2,
   "id": "938a974d-269d-4053-871d-9cf44473d453",
   "metadata": {},
   "outputs": [],
   "source": [
    "# import\n",
    "\n",
    "import numpy as np"
   ]
  },
  {
   "cell_type": "markdown",
   "id": "417bf63d",
   "metadata": {},
   "source": [
    "# 从list创建数组"
   ]
  },
  {
   "cell_type": "code",
   "execution_count": 120,
   "id": "3c45f968",
   "metadata": {},
   "outputs": [
    {
     "name": "stdout",
     "output_type": "stream",
     "text": [
      "[1 2 3 4]\n",
      "(4,)\n",
      "<class 'numpy.ndarray'>\n",
      "<class 'numpy.int64'>\n",
      "[1. 2. 3. 4.]\n",
      "1.0\n",
      "<class 'numpy.float32'>\n"
     ]
    },
    {
     "data": {
      "text/plain": [
       "array([[1, 2],\n",
       "       [3, 4],\n",
       "       [5, 6]])"
      ]
     },
     "execution_count": 120,
     "metadata": {},
     "output_type": "execute_result"
    }
   ],
   "source": [
    "# 从列表list创建一维数组\n",
    "x = np.array([1,2,3,4])\n",
    "print(x)\n",
    "print(x.shape)\n",
    "print(type(x))\n",
    "print(type(x[0]))\n",
    "                \n",
    "\n",
    "# 指定数组元素数据类型 (numpy的数组的类型必须一致)\n",
    "x = np.array([1,2,3,4], dtype=\"float32\")\n",
    "print(x)\n",
    "print(x[0])\n",
    "print(type(x[0]))\n",
    "\n",
    "# 从列表创建二维数组\n",
    "x = np.array([\n",
    "    [1,2],\n",
    "    [3,4],\n",
    "    [5,6]\n",
    "])\n",
    "x\n"
   ]
  },
  {
   "cell_type": "markdown",
   "id": "81478474",
   "metadata": {},
   "source": [
    "# 从无到有创建数组"
   ]
  },
  {
   "cell_type": "code",
   "execution_count": 121,
   "id": "5e97e047",
   "metadata": {},
   "outputs": [
    {
     "name": "stdout",
     "output_type": "stream",
     "text": [
      "[[0 0]\n",
      " [0 0]\n",
      " [0 0]]\n",
      "[[1. 1. 1. 1.]\n",
      " [1. 1. 1. 1.]]\n",
      "[[8 8 8 8 8]\n",
      " [8 8 8 8 8]\n",
      " [8 8 8 8 8]]\n",
      "[[1. 0. 0.]\n",
      " [0. 1. 0.]\n",
      " [0. 0. 1.]]\n"
     ]
    }
   ],
   "source": [
    "# >>>>>>>>>>>>>>>>>>>>>>>>>>>>>>>>>>>>>>>>>>     创建固定值的数组 / 特殊数组\n",
    "\n",
    "# 创建长度为5, 值为0的数组\n",
    "x = np.zeros(shape=(3,2), dtype=int)\n",
    "print(x)\n",
    "\n",
    "\n",
    "# 创建一个2*4的浮点型数组, 值都为1\n",
    "x = np.ones(shape=(2, 4), dtype=float)\n",
    "print(x)\n",
    "\n",
    "        \n",
    "# 创建一个3*5的数组, 值都是8\n",
    "x = np.full(shape=(3,5), fill_value=8)\n",
    "print(x)\n",
    "\n",
    "            \n",
    "# 创建一个3*3的单位矩阵\n",
    "x = np.eye(3)\n",
    "print(x)\n",
    "\n",
    "            "
   ]
  },
  {
   "cell_type": "code",
   "execution_count": 122,
   "id": "ec7f8e6a",
   "metadata": {
    "tags": []
   },
   "outputs": [
    {
     "name": "stdout",
     "output_type": "stream",
     "text": [
      "[ 1.  3.  5.  7.  9. 11. 13.]\n",
      "[0.         0.33333333 0.66666667 1.        ]\n",
      "[1.e+00 1.e+01 1.e+02 1.e+03 1.e+04 1.e+05 1.e+06 1.e+07 1.e+08 1.e+09]\n",
      "[[0.74040096 0.50207734 0.2373064 ]\n",
      " [0.54830478 0.56533944 0.0184281 ]\n",
      " [0.93896216 0.57841337 0.48266576]]\n",
      "[[-2.61472708  0.02406703  0.2103393 ]\n",
      " [-0.45958097  1.51445675  0.02513159]\n",
      " [ 0.2455094  -1.45162017  0.75455836]]\n"
     ]
    },
    {
     "data": {
      "text/plain": [
       "array([[3, 7, 3],\n",
       "       [0, 9, 1],\n",
       "       [0, 5, 0]])"
      ]
     },
     "execution_count": 122,
     "metadata": {},
     "output_type": "execute_result"
    }
   ],
   "source": [
    "\n",
    "# >>>>>>>>>>>>>>>>>>>>>>>>>>>>>>>>>>>>>>>>>> 1-D数组\n",
    "            \n",
    "# 创建一个线性的序列数组: [1, 15), 步长为2\n",
    "x = np.arange(start=1, stop=15, step=2, dtype=float)\n",
    "print(x)                            \n",
    "\n",
    "\n",
    "# 创建一个等差数列: 4个元素, 将[0,1]等分成三份\n",
    "x = np.linspace(start=0, stop=1, num=4)\n",
    "print(x)  \n",
    "    \n",
    "# 创建一个等比数列, 从10^0 - 10^9次方, 等比的产生10个数\n",
    "x = np.logspace(start=0, stop=9, num=10, base=10.0)\n",
    "print(x)\n",
    "    \n",
    "    \n",
    "    \n",
    "    \n",
    "# >>>>>>>>>>>>>>>>>>>>>>>>>>>>>>>>>>>>>>>>>>>>>>> 多维数组\n",
    "    \n",
    "# 创建一个3*3数组, 元素为[0.0, 1.0)之间的均匀分布的随机数\n",
    "x = np.random.random(size=(3,3))\n",
    "print(x)\n",
    "            \n",
    "# 创建一个3*3的数组, 元素为均值为0, 标准差为1的正态分布随机数\n",
    "x = np.random.normal(loc=0, scale=1, size=(3,3))\n",
    "print(x)\n",
    "\n",
    "            \n",
    "# 创建一个3*3的数组, 元素的取值是[0-10)的随机整数\n",
    "np.random.randint(low=0, high=10, size=(3, 3))\n",
    "# 创建一个3*3的数组, 元素的取值是[0-10)的随机整数\n",
    "np.random.randint(low=10, size=(3,3))\n",
    "            \n",
    "            "
   ]
  },
  {
   "cell_type": "code",
   "execution_count": 123,
   "id": "8b8cd4d9",
   "metadata": {},
   "outputs": [
    {
     "name": "stdout",
     "output_type": "stream",
     "text": [
      "[1 2 3 4]\n",
      "[1 4 3 2]\n"
     ]
    }
   ],
   "source": [
    "# 将列表进行随机重排列\n",
    "x = np.array([1,2,3,4])\n",
    "np.random.permutation(x)\n",
    "                                    # array([2, 1, 3, 4])\n",
    "print(x)                            # [1 2 3 4] # permutation不会改变原数组\n",
    "\n",
    "\n",
    "np.random.shuffle(x)\n",
    "print(x)                            # [3 1 4 2] # shuffle会改变原数组\n",
    "\n"
   ]
  },
  {
   "cell_type": "code",
   "execution_count": 124,
   "id": "2ce7ac2e",
   "metadata": {},
   "outputs": [
    {
     "data": {
      "text/plain": [
       "array([[14., 15., 14.],\n",
       "       [13., 20., 14.],\n",
       "       [21., 10., 22.],\n",
       "       [12., 18., 17.]])"
      ]
     },
     "execution_count": 124,
     "metadata": {},
     "output_type": "execute_result"
    }
   ],
   "source": [
    "# 从数组中随机采样\n",
    "x = np.arange(10, 25, dtype=float)\n",
    "# 从1-D数组中进行采样, 采样4*3=12次, 构成一个4*3的数组\n",
    "np.random.choice(x, size=(4,3))\n",
    "                                    # array([[16., 13., 23.],\n",
    "                                    #        [22., 23., 14.],\n",
    "                                    #        [17., 24., 22.],\n",
    "                                    #        [23., 18., 20.]])\n",
    "# 针对1-D数组中的采样, 同时设置1-D数组中个元素的的采样概率\n",
    "np.random.choice(x, size=(4, 3), p=x/np.sum(x))\n",
    "                                    # array([[16., 15., 15.],\n",
    "                                    #        [11., 22., 22.],\n",
    "                                    #        [13., 20., 14.],\n",
    "                                    #        [13., 22., 22.]])"
   ]
  },
  {
   "cell_type": "markdown",
   "id": "c176df97",
   "metadata": {},
   "source": [
    "# numpy数组的性质"
   ]
  },
  {
   "cell_type": "code",
   "execution_count": 125,
   "id": "5ac45665",
   "metadata": {},
   "outputs": [
    {
     "data": {
      "text/plain": [
       "array([[6, 5, 3],\n",
       "       [6, 8, 9],\n",
       "       [3, 5, 1],\n",
       "       [4, 2, 7]])"
      ]
     },
     "execution_count": 125,
     "metadata": {},
     "output_type": "execute_result"
    }
   ],
   "source": [
    "# ∵ high=None, 此时的取值就是[0, low)之间的整数\n",
    "x = np.random.randint(low=10,high=None, size=(4,3))\n",
    "x"
   ]
  },
  {
   "cell_type": "code",
   "execution_count": 126,
   "id": "9396181b",
   "metadata": {},
   "outputs": [
    {
     "data": {
      "text/plain": [
       "(4, 3)"
      ]
     },
     "execution_count": 126,
     "metadata": {},
     "output_type": "execute_result"
    }
   ],
   "source": [
    "# 数组的性状\n",
    "x.shape"
   ]
  },
  {
   "cell_type": "code",
   "execution_count": 127,
   "id": "0afca8f5",
   "metadata": {},
   "outputs": [
    {
     "data": {
      "text/plain": [
       "2"
      ]
     },
     "execution_count": 127,
     "metadata": {},
     "output_type": "execute_result"
    }
   ],
   "source": [
    "# 数组的维度\n",
    "x.ndim"
   ]
  },
  {
   "cell_type": "code",
   "execution_count": 128,
   "id": "8f9bdc05",
   "metadata": {},
   "outputs": [
    {
     "data": {
      "text/plain": [
       "12"
      ]
     },
     "execution_count": 128,
     "metadata": {},
     "output_type": "execute_result"
    }
   ],
   "source": [
    "# 数组的大小(元素个数)\n",
    "x.size"
   ]
  },
  {
   "cell_type": "code",
   "execution_count": 129,
   "id": "883de0c0",
   "metadata": {},
   "outputs": [
    {
     "data": {
      "text/plain": [
       "dtype('int64')"
      ]
     },
     "execution_count": 129,
     "metadata": {},
     "output_type": "execute_result"
    }
   ],
   "source": [
    "# 数组的元素类型\n",
    "x.dtype"
   ]
  },
  {
   "cell_type": "markdown",
   "id": "9a6a041c",
   "metadata": {},
   "source": [
    "# 数组索引"
   ]
  },
  {
   "cell_type": "code",
   "execution_count": 130,
   "id": "901d3ec2",
   "metadata": {
    "tags": []
   },
   "outputs": [
    {
     "data": {
      "text/plain": [
       "array([[7, 9],\n",
       "       [7, 3],\n",
       "       [2, 3]])"
      ]
     },
     "execution_count": 130,
     "metadata": {},
     "output_type": "execute_result"
    }
   ],
   "source": [
    "x = np.random.randint(0, 10, size=(3,2))\n",
    "x"
   ]
  },
  {
   "cell_type": "code",
   "execution_count": 131,
   "id": "37515c07-ff59-4cc2-911a-38539fc7a03b",
   "metadata": {},
   "outputs": [
    {
     "data": {
      "text/plain": [
       "9"
      ]
     },
     "execution_count": 131,
     "metadata": {},
     "output_type": "execute_result"
    }
   ],
   "source": [
    "x[0][1]"
   ]
  },
  {
   "cell_type": "code",
   "execution_count": 132,
   "id": "46775dde-14e6-4873-a9fa-10e19fd24ae4",
   "metadata": {},
   "outputs": [
    {
     "data": {
      "text/plain": [
       "array([[1, 9],\n",
       "       [7, 3],\n",
       "       [2, 3]])"
      ]
     },
     "execution_count": 132,
     "metadata": {},
     "output_type": "execute_result"
    }
   ],
   "source": [
    "# 利用索引进行赋值\n",
    "# NOTE: 因为数据的元素唯一, 所以会隐式转为为相应的dtype\n",
    "x[0][0] = 1.67 # 向下取整\n",
    "x"
   ]
  },
  {
   "cell_type": "markdown",
   "id": "3f24b779-30dd-4d71-a9fa-e0cfc97bdbe4",
   "metadata": {},
   "source": [
    "# 数组的切片"
   ]
  },
  {
   "cell_type": "markdown",
   "id": "246fccc0-fabb-439a-91b5-590455a447ff",
   "metadata": {},
   "source": [
    "## 1-dim 数组"
   ]
  },
  {
   "cell_type": "code",
   "execution_count": 133,
   "id": "14abc278-524d-4208-aaab-598392e268fb",
   "metadata": {},
   "outputs": [],
   "source": [
    "x = np.arange(10)"
   ]
  },
  {
   "cell_type": "code",
   "execution_count": 134,
   "id": "fd48c6fa-d7a6-4d48-8f8e-cc302e999138",
   "metadata": {},
   "outputs": [
    {
     "data": {
      "text/plain": [
       "array([1, 2, 3, 4, 5, 6, 7, 8, 9])"
      ]
     },
     "execution_count": 134,
     "metadata": {},
     "output_type": "execute_result"
    }
   ],
   "source": [
    "x[1:]"
   ]
  },
  {
   "cell_type": "code",
   "execution_count": 135,
   "id": "96ad993b-8989-4ea6-9c29-77f71291a11a",
   "metadata": {},
   "outputs": [
    {
     "data": {
      "text/plain": [
       "array([0, 1, 2])"
      ]
     },
     "execution_count": 135,
     "metadata": {},
     "output_type": "execute_result"
    }
   ],
   "source": [
    "x[:3]"
   ]
  },
  {
   "cell_type": "code",
   "execution_count": 136,
   "id": "8a2c4f30-8853-4152-9992-3c9c4cf85823",
   "metadata": {},
   "outputs": [
    {
     "data": {
      "text/plain": [
       "array([9, 8, 7, 6, 5, 4, 3, 2, 1, 0])"
      ]
     },
     "execution_count": 136,
     "metadata": {},
     "output_type": "execute_result"
    }
   ],
   "source": [
    "# 逆序\n",
    "x[::-1]"
   ]
  },
  {
   "cell_type": "markdown",
   "id": "0605e523-3443-487a-bf96-af50dbb72dd0",
   "metadata": {},
   "source": [
    "## 多维数组"
   ]
  },
  {
   "cell_type": "code",
   "execution_count": 137,
   "id": "2ccfb041-33c8-4d69-a0a7-91d876adeac7",
   "metadata": {},
   "outputs": [
    {
     "data": {
      "text/plain": [
       "array([[4, 1, 1, 8],\n",
       "       [1, 3, 8, 9],\n",
       "       [7, 0, 3, 0]])"
      ]
     },
     "execution_count": 137,
     "metadata": {},
     "output_type": "execute_result"
    }
   ],
   "source": [
    "x = np.random.randint(0, 10, size=(3,4))\n",
    "x"
   ]
  },
  {
   "cell_type": "code",
   "execution_count": 138,
   "id": "252ea4fb-4b4e-4865-8f44-82baf6038d09",
   "metadata": {},
   "outputs": [
    {
     "data": {
      "text/plain": [
       "array([[4, 1, 1],\n",
       "       [1, 3, 8]])"
      ]
     },
     "execution_count": 138,
     "metadata": {},
     "output_type": "execute_result"
    }
   ],
   "source": [
    "x[:2, :3] # 需要有两个切片操作, 前两行, 前3列"
   ]
  },
  {
   "cell_type": "code",
   "execution_count": 139,
   "id": "56e6c595-62a7-4cf6-848b-afdfa8e1acae",
   "metadata": {},
   "outputs": [
    {
     "data": {
      "text/plain": [
       "array([[0, 3, 0, 7],\n",
       "       [9, 8, 3, 1],\n",
       "       [8, 1, 1, 4]])"
      ]
     },
     "execution_count": 139,
     "metadata": {},
     "output_type": "execute_result"
    }
   ],
   "source": [
    "# 行逆序, 列也逆序\n",
    "x[::-1, ::-1]"
   ]
  },
  {
   "cell_type": "code",
   "execution_count": 140,
   "id": "428f0c6f-4a08-4577-a0d5-c1f7f55edbe0",
   "metadata": {},
   "outputs": [
    {
     "data": {
      "text/plain": [
       "array([1, 3, 8, 9])"
      ]
     },
     "execution_count": 140,
     "metadata": {},
     "output_type": "execute_result"
    }
   ],
   "source": [
    "# 取行\n",
    "x[1, :] # 取第二行, 0开始\n",
    "x[1] # 简写"
   ]
  },
  {
   "cell_type": "code",
   "execution_count": 141,
   "id": "c9ca6dcb-2802-4b0b-94cb-bee50fbc5764",
   "metadata": {
    "tags": []
   },
   "outputs": [
    {
     "data": {
      "text/plain": [
       "array([1, 3, 0])"
      ]
     },
     "execution_count": 141,
     "metadata": {},
     "output_type": "execute_result"
    }
   ],
   "source": [
    "# 取列\n",
    "x[:, 1] # 去第二列"
   ]
  },
  {
   "cell_type": "markdown",
   "id": "656c40e7-07bf-4b2e-8f28-76f6bdd3d118",
   "metadata": {
    "jupyter": {
     "outputs_hidden": true
    }
   },
   "source": [
    "### NOTE: 切片默认是视图, 而不是副本, 会修改原数组"
   ]
  },
  {
   "cell_type": "code",
   "execution_count": 142,
   "id": "d54c5be8-580c-4b45-911a-14a3a4a72099",
   "metadata": {
    "tags": []
   },
   "outputs": [
    {
     "data": {
      "text/plain": [
       "array([[3, 8, 8, 1],\n",
       "       [4, 0, 9, 3],\n",
       "       [4, 0, 3, 2]])"
      ]
     },
     "execution_count": 142,
     "metadata": {},
     "output_type": "execute_result"
    }
   ],
   "source": [
    "x = np.random.randint(0, 10, size=(3,4))\n",
    "x"
   ]
  },
  {
   "cell_type": "code",
   "execution_count": 143,
   "id": "631149e9-84a5-4f78-a6b1-244381c8a03f",
   "metadata": {},
   "outputs": [
    {
     "data": {
      "text/plain": [
       "array([3, 8, 8, 1])"
      ]
     },
     "execution_count": 143,
     "metadata": {},
     "output_type": "execute_result"
    }
   ],
   "source": [
    "y = x[0] # 取第0行\n",
    "y"
   ]
  },
  {
   "cell_type": "code",
   "execution_count": 144,
   "id": "9d1a9cd6-5468-4055-9bcf-3525bd8a642d",
   "metadata": {
    "tags": []
   },
   "outputs": [
    {
     "data": {
      "text/plain": [
       "array([[100,   8,   8,   1],\n",
       "       [  4,   0,   9,   3],\n",
       "       [  4,   0,   3,   2]])"
      ]
     },
     "execution_count": 144,
     "metadata": {},
     "output_type": "execute_result"
    }
   ],
   "source": [
    "y[0] = 100\n",
    "x # x[0][0] 跟着改变了!!"
   ]
  },
  {
   "cell_type": "markdown",
   "id": "a426d454-94ef-4f3f-b671-8776916fc2bb",
   "metadata": {},
   "source": [
    "###  如果要获取切片副本, 要用copy函数"
   ]
  },
  {
   "cell_type": "code",
   "execution_count": 145,
   "id": "11efa960-2eee-4e03-9827-5dada048ceb5",
   "metadata": {
    "tags": []
   },
   "outputs": [
    {
     "data": {
      "text/plain": [
       "array([[ 5,  8],\n",
       "       [11, 97],\n",
       "       [40, 82]])"
      ]
     },
     "execution_count": 145,
     "metadata": {},
     "output_type": "execute_result"
    }
   ],
   "source": [
    "x = np.random.randint(0, 100, (3, 2))\n",
    "x"
   ]
  },
  {
   "cell_type": "code",
   "execution_count": 146,
   "id": "0555a053-737b-4aae-a859-4539aaed2392",
   "metadata": {
    "tags": []
   },
   "outputs": [
    {
     "data": {
      "text/plain": [
       "array([1000,    8])"
      ]
     },
     "execution_count": 146,
     "metadata": {},
     "output_type": "execute_result"
    }
   ],
   "source": [
    "y = x[0, :].copy() # y为切片副本\n",
    "y[0] = 1000\n",
    "y"
   ]
  },
  {
   "cell_type": "code",
   "execution_count": 147,
   "id": "6b6151c9-3a35-48df-8069-ceb34f2e2b76",
   "metadata": {
    "tags": []
   },
   "outputs": [
    {
     "data": {
      "text/plain": [
       "array([[ 5,  8],\n",
       "       [11, 97],\n",
       "       [40, 82]])"
      ]
     },
     "execution_count": 147,
     "metadata": {},
     "output_type": "execute_result"
    }
   ],
   "source": [
    "x # x不变"
   ]
  },
  {
   "cell_type": "markdown",
   "id": "cd0d27cc-9712-42a8-a5e3-136f3e598feb",
   "metadata": {},
   "source": [
    "# 数组的变形(视图, 而非副本)"
   ]
  },
  {
   "cell_type": "code",
   "execution_count": 148,
   "id": "f5500cce-35ef-44fc-b5a6-b11cc9a8a7d4",
   "metadata": {
    "tags": []
   },
   "outputs": [
    {
     "data": {
      "text/plain": [
       "array([5, 4, 6, 9, 1, 9, 8, 2, 0, 3, 0, 5])"
      ]
     },
     "execution_count": 148,
     "metadata": {},
     "output_type": "execute_result"
    }
   ],
   "source": [
    "x = np.random.randint(0, 10, (12))\n",
    "x"
   ]
  },
  {
   "cell_type": "code",
   "execution_count": 149,
   "id": "6e0187c4-f5c4-42bc-abb9-fe828515c6f9",
   "metadata": {},
   "outputs": [
    {
     "data": {
      "text/plain": [
       "(12,)"
      ]
     },
     "execution_count": 149,
     "metadata": {},
     "output_type": "execute_result"
    }
   ],
   "source": [
    "x.shape # 1-dim数组"
   ]
  },
  {
   "cell_type": "code",
   "execution_count": 150,
   "id": "d9ef1d30-4f7e-4c10-97f1-8949a3ccbe2c",
   "metadata": {},
   "outputs": [
    {
     "data": {
      "text/plain": [
       "array([[5, 4, 6, 9],\n",
       "       [1, 9, 8, 2],\n",
       "       [0, 3, 0, 5]])"
      ]
     },
     "execution_count": 150,
     "metadata": {},
     "output_type": "execute_result"
    }
   ],
   "source": [
    "x1 = x.reshape(3,4)\n",
    "x1"
   ]
  },
  {
   "cell_type": "code",
   "execution_count": 151,
   "id": "05b50c0d-e1b1-42bb-ba4e-3b545f453042",
   "metadata": {},
   "outputs": [
    {
     "data": {
      "text/plain": [
       "array([[5],\n",
       "       [4],\n",
       "       [6],\n",
       "       [9],\n",
       "       [1],\n",
       "       [9],\n",
       "       [8],\n",
       "       [2],\n",
       "       [0],\n",
       "       [3],\n",
       "       [0],\n",
       "       [5]])"
      ]
     },
     "execution_count": 151,
     "metadata": {},
     "output_type": "execute_result"
    }
   ],
   "source": [
    "## 1-dim 数组 ==> 转置 (2-dim行向量)\n",
    "\n",
    "x2 = x.reshape(1, x.shape[0])\n",
    "x2 # 行向量\n",
    "\n",
    "x3 = x[np.newaxis, :]\n",
    "x3 # 行向量\n",
    "\n",
    "\n",
    "## 1-dim 数组 ==> 转置 (2-dim列向量)\n",
    "\n",
    "x2 = x.reshape(x.shape[0], 1)\n",
    "x2 # 列向量\n",
    "\n",
    "x3 = x[:, np.newaxis]\n",
    "x3 # 列向量"
   ]
  },
  {
   "cell_type": "markdown",
   "id": "c8d078f3-bd99-4b77-a723-877abf24b93f",
   "metadata": {},
   "source": [
    "## np.newaxis的用法\n",
    "\n",
    "[stack-overflow](https://stackoverflow.com/questions/29241056/how-does-numpy-newaxis-work-and-when-to-use-it)"
   ]
  },
  {
   "cell_type": "markdown",
   "id": "944cb5bb-db35-4092-b490-8910a3f4ae60",
   "metadata": {},
   "source": [
    "**Scenario: convert 1-dim to Row Vector or Column Vector**"
   ]
  },
  {
   "cell_type": "code",
   "execution_count": 152,
   "id": "7aff27d6-2103-4059-9679-d6e76fb409ea",
   "metadata": {
    "tags": []
   },
   "outputs": [
    {
     "data": {
      "text/plain": [
       "(10,)"
      ]
     },
     "execution_count": 152,
     "metadata": {},
     "output_type": "execute_result"
    }
   ],
   "source": [
    "x = np.arange(10)\n",
    "x.shape"
   ]
  },
  {
   "cell_type": "code",
   "execution_count": 153,
   "id": "24708e3b-326c-4d06-beba-c296cc3960fb",
   "metadata": {
    "tags": []
   },
   "outputs": [
    {
     "name": "stdout",
     "output_type": "stream",
     "text": [
      "[[0 1 2 3 4 5 6 7 8 9]]\n",
      "(1, 10)\n"
     ]
    }
   ],
   "source": [
    "# convert x (1-dim) to Row Vector (2-dim)\n",
    "row_vector = x[np.newaxis, :]\n",
    "print(row_vector)\n",
    "\n",
    "print(row_vector.shape)"
   ]
  },
  {
   "cell_type": "code",
   "execution_count": 154,
   "id": "ea510b11-6209-4ecb-b8e8-0fe4672815a1",
   "metadata": {
    "tags": []
   },
   "outputs": [
    {
     "name": "stdout",
     "output_type": "stream",
     "text": [
      "[[0]\n",
      " [1]\n",
      " [2]\n",
      " [3]\n",
      " [4]\n",
      " [5]\n",
      " [6]\n",
      " [7]\n",
      " [8]\n",
      " [9]]\n",
      "(10, 1)\n"
     ]
    }
   ],
   "source": [
    "# convert x (2-dim) to Column Vector(2-dim)\n",
    "column_vector = x[:, np.newaxis]\n",
    "\n",
    "print(column_vector)\n",
    "print(column_vector.shape)"
   ]
  },
  {
   "cell_type": "markdown",
   "id": "fc1e283f-dab8-4751-89f5-bde2effcfa4a",
   "metadata": {},
   "source": [
    "## 多维数组转1-dim数组"
   ]
  },
  {
   "cell_type": "code",
   "execution_count": 155,
   "id": "1fa057bd-98b2-44c0-91c3-0594edf1e683",
   "metadata": {},
   "outputs": [
    {
     "data": {
      "text/plain": [
       "array([[2, 1],\n",
       "       [6, 1],\n",
       "       [6, 2]])"
      ]
     },
     "execution_count": 155,
     "metadata": {},
     "output_type": "execute_result"
    }
   ],
   "source": [
    "x = np.random.randint(0, 10, size=(3,2))\n",
    "x"
   ]
  },
  {
   "cell_type": "code",
   "execution_count": 156,
   "id": "db9949f2-ce0f-4e25-8d1d-0d06558fe844",
   "metadata": {},
   "outputs": [
    {
     "data": {
      "text/plain": [
       "array([2, 1, 6, 1, 6, 2])"
      ]
     },
     "execution_count": 156,
     "metadata": {},
     "output_type": "execute_result"
    }
   ],
   "source": [
    "# flattern 返回的是副本\n",
    "\n",
    "x2 = x.flatten()\n",
    "x2"
   ]
  },
  {
   "cell_type": "code",
   "execution_count": 157,
   "id": "eaf6c352-31d0-476a-8c2b-80a66db3e9c2",
   "metadata": {},
   "outputs": [
    {
     "data": {
      "text/plain": [
       "array([2, 1, 6, 1, 6, 2])"
      ]
     },
     "execution_count": 157,
     "metadata": {},
     "output_type": "execute_result"
    }
   ],
   "source": [
    "# ravel 返回的是视图\n",
    "x3 = x.flatten()\n",
    "x3"
   ]
  },
  {
   "cell_type": "code",
   "execution_count": 158,
   "id": "730932e8-cca4-4f90-83a9-761f963ad8c2",
   "metadata": {},
   "outputs": [
    {
     "data": {
      "text/plain": [
       "array([2, 1, 6, 1, 6, 2])"
      ]
     },
     "execution_count": 158,
     "metadata": {},
     "output_type": "execute_result"
    }
   ],
   "source": [
    "# reshape 返回的是视图\n",
    "x4 = x.reshape(-1)\n",
    "x4"
   ]
  },
  {
   "cell_type": "markdown",
   "id": "4ca535ba-d3a5-46c5-8954-6e9dcdb2338b",
   "metadata": {},
   "source": [
    "## 数组拼接"
   ]
  },
  {
   "cell_type": "code",
   "execution_count": 159,
   "id": "52c9f019-5003-49ca-8563-c884455c09ce",
   "metadata": {},
   "outputs": [],
   "source": [
    "x1 = np.array(\n",
    "[[1,2,3,4],\n",
    " [5,6,7,8]])\n",
    "\n",
    "x2 = np.array([\n",
    "    [4,3,2,1],\n",
    "    [9,8,7,6]])"
   ]
  },
  {
   "cell_type": "markdown",
   "id": "0822ef26-9ffd-4e12-baa3-624f2d902d1d",
   "metadata": {},
   "source": [
    "## 水平拼接"
   ]
  },
  {
   "cell_type": "code",
   "execution_count": 160,
   "id": "864f33ee-613f-43c8-afd2-3583f0ceffdb",
   "metadata": {},
   "outputs": [
    {
     "data": {
      "text/plain": [
       "array([[1, 2, 3, 4, 4, 3, 2, 1],\n",
       "       [5, 6, 7, 8, 9, 8, 7, 6]])"
      ]
     },
     "execution_count": 160,
     "metadata": {},
     "output_type": "execute_result"
    }
   ],
   "source": [
    "# hstack 返回的是副本\n",
    "x3 = np.hstack([x1, x2])\n",
    "x3"
   ]
  },
  {
   "cell_type": "code",
   "execution_count": 161,
   "id": "4b2afb37-c4b3-4fe8-9236-a12093a5248e",
   "metadata": {},
   "outputs": [
    {
     "data": {
      "text/plain": [
       "array([[1, 2, 3, 4, 4, 3, 2, 1],\n",
       "       [5, 6, 7, 8, 9, 8, 7, 6]])"
      ]
     },
     "execution_count": 161,
     "metadata": {},
     "output_type": "execute_result"
    }
   ],
   "source": [
    "# c_ 同样也是返回副本\n",
    "x4 = np.c_[x1, x2]\n",
    "x4"
   ]
  },
  {
   "cell_type": "markdown",
   "id": "bff34a58-c798-49d4-b7f1-5e8a548d48cf",
   "metadata": {},
   "source": [
    "##  垂直拼接"
   ]
  },
  {
   "cell_type": "code",
   "execution_count": 162,
   "id": "6ea11792-c58e-4439-bfd7-cf8576fa490b",
   "metadata": {},
   "outputs": [
    {
     "data": {
      "text/plain": [
       "array([[1, 2, 3, 4],\n",
       "       [5, 6, 7, 8],\n",
       "       [4, 3, 2, 1],\n",
       "       [9, 8, 7, 6]])"
      ]
     },
     "execution_count": 162,
     "metadata": {},
     "output_type": "execute_result"
    }
   ],
   "source": [
    "# 副本\n",
    "x5 = np.vstack([x1, x2])\n",
    "x5"
   ]
  },
  {
   "cell_type": "code",
   "execution_count": 163,
   "id": "bb250809-e755-473a-b031-667f0218ab9d",
   "metadata": {},
   "outputs": [
    {
     "data": {
      "text/plain": [
       "array([[1, 2, 3, 4],\n",
       "       [5, 6, 7, 8],\n",
       "       [4, 3, 2, 1],\n",
       "       [9, 8, 7, 6]])"
      ]
     },
     "execution_count": 163,
     "metadata": {},
     "output_type": "execute_result"
    }
   ],
   "source": [
    "# 副本\n",
    "x6 = np.r_[x1, x2]\n",
    "x6"
   ]
  },
  {
   "cell_type": "markdown",
   "id": "56603eae-10a3-49bb-a181-2454128ca537",
   "metadata": {},
   "source": [
    "##  数组的分裂"
   ]
  },
  {
   "cell_type": "markdown",
   "id": "5a73a460-5378-406e-8b42-14cb5228d14f",
   "metadata": {},
   "source": [
    "## 一维数组分割"
   ]
  },
  {
   "cell_type": "code",
   "execution_count": 173,
   "id": "5da7724e-c3d4-49f0-9f75-09595ad94104",
   "metadata": {},
   "outputs": [
    {
     "data": {
      "text/plain": [
       "array([10, 11, 12, 13, 14, 15, 16, 17, 18, 19])"
      ]
     },
     "execution_count": 173,
     "metadata": {},
     "output_type": "execute_result"
    }
   ],
   "source": [
    "x = np.arange(10, 20)\n",
    "x"
   ]
  },
  {
   "cell_type": "code",
   "execution_count": 175,
   "id": "2718138b-be92-449e-82be-3215f2b3387a",
   "metadata": {},
   "outputs": [
    {
     "data": {
      "text/plain": [
       "(array([10, 11, 12, 13]), array([14, 15, 16, 17, 18]), array([19]))"
      ]
     },
     "execution_count": 175,
     "metadata": {},
     "output_type": "execute_result"
    }
   ],
   "source": [
    "# split array by index list\n",
    "x2, x3, x4 = np.split(x, [4, 9])\n",
    "x2, x3, x4"
   ]
  },
  {
   "cell_type": "markdown",
   "id": "35f6cac2-056f-4a38-aaae-e5c32b6175ea",
   "metadata": {},
   "source": [
    "## 二维数组的水平分割"
   ]
  },
  {
   "cell_type": "code",
   "execution_count": 177,
   "id": "6c1a9685-6891-4990-b122-121fe06fb6bb",
   "metadata": {},
   "outputs": [
    {
     "data": {
      "text/plain": [
       "array([[5, 2, 5, 7, 2],\n",
       "       [5, 6, 2, 2, 1]])"
      ]
     },
     "execution_count": 177,
     "metadata": {},
     "output_type": "execute_result"
    }
   ],
   "source": [
    "x = np.random.randint(0, 10, size=(2, 5))\n",
    "x"
   ]
  },
  {
   "cell_type": "code",
   "execution_count": 179,
   "id": "b6f2ed96-0bae-4a54-98fd-cc4f6111c860",
   "metadata": {},
   "outputs": [
    {
     "data": {
      "text/plain": [
       "(array([[5],\n",
       "        [5]]),\n",
       " array([[2, 5],\n",
       "        [6, 2]]),\n",
       " array([[7, 2],\n",
       "        [2, 1]]))"
      ]
     },
     "execution_count": 179,
     "metadata": {},
     "output_type": "execute_result"
    }
   ],
   "source": [
    "x2, x3, x4 = np.hsplit(x, [1, 3])\n",
    "x2, x3, x4"
   ]
  },
  {
   "cell_type": "markdown",
   "id": "144a50ad-d098-4c72-9a51-f4131ab0e45c",
   "metadata": {},
   "source": [
    "##  二维数组的垂直分割"
   ]
  },
  {
   "cell_type": "code",
   "execution_count": 180,
   "id": "36bc4053-45db-48af-92b3-ccd3b1f45103",
   "metadata": {},
   "outputs": [
    {
     "data": {
      "text/plain": [
       "array([[ 0,  1,  2],\n",
       "       [ 3,  4,  5],\n",
       "       [ 6,  7,  8],\n",
       "       [ 9, 10, 11],\n",
       "       [12, 13, 14]])"
      ]
     },
     "execution_count": 180,
     "metadata": {},
     "output_type": "execute_result"
    }
   ],
   "source": [
    "x = np.arange(0, 15).reshape(5, 3)\n",
    "x"
   ]
  },
  {
   "cell_type": "code",
   "execution_count": 181,
   "id": "1e68bebd-36ff-4661-b678-66e2c682a370",
   "metadata": {},
   "outputs": [
    {
     "data": {
      "text/plain": [
       "(array([[0, 1, 2]]),\n",
       " array([[3, 4, 5],\n",
       "        [6, 7, 8]]),\n",
       " array([[ 9, 10, 11],\n",
       "        [12, 13, 14]]))"
      ]
     },
     "execution_count": 181,
     "metadata": {},
     "output_type": "execute_result"
    }
   ],
   "source": [
    "x2, x3, x4 = np.vsplit(x, [1, 3])\n",
    "x2, x3, x4"
   ]
  },
  {
   "cell_type": "markdown",
   "id": "fe797781-03a7-493c-86a6-d06beef86cdb",
   "metadata": {},
   "source": [
    "# numpy 运算"
   ]
  },
  {
   "cell_type": "markdown",
   "id": "5162bd07-104d-4600-b0f7-5093c0481dca",
   "metadata": {},
   "source": [
    "## 向量化运算"
   ]
  },
  {
   "cell_type": "markdown",
   "id": "dd89cba8-40bc-4f36-845b-baf28b7f66d0",
   "metadata": {},
   "source": [
    "### 与向量的加减乘除"
   ]
  },
  {
   "cell_type": "code",
   "execution_count": 3,
   "id": "e4f4ef65-8ea7-45c4-8cb4-f5779396d480",
   "metadata": {},
   "outputs": [
    {
     "data": {
      "text/plain": [
       "array([1, 2, 3, 4, 5])"
      ]
     },
     "execution_count": 3,
     "metadata": {},
     "output_type": "execute_result"
    }
   ],
   "source": [
    "x1 = np.arange(1, 6)\n",
    "x1"
   ]
  },
  {
   "cell_type": "code",
   "execution_count": 4,
   "id": "1a96b6b0-4571-4715-babd-965059b3d80f",
   "metadata": {},
   "outputs": [
    {
     "name": "stdout",
     "output_type": "stream",
     "text": [
      "[ 6  7  8  9 10]\n",
      "[0.2 0.4 0.6 0.8 1. ]\n"
     ]
    }
   ],
   "source": [
    "print(x1 + 5)\n",
    "print(x1 / 5)"
   ]
  },
  {
   "cell_type": "code",
   "execution_count": 6,
   "id": "dfa58b82-9f96-4beb-86d5-f7d9021f2e62",
   "metadata": {},
   "outputs": [
    {
     "name": "stdout",
     "output_type": "stream",
     "text": [
      "[-1 -2 -3 -4 -5]\n",
      "[ 1  4  9 16 25]\n",
      "[0 1 1 2 2]\n",
      "[1 0 1 0 1]\n"
     ]
    }
   ],
   "source": [
    "print(-x1)\n",
    "print(x1**2)\n",
    "print(x1//2) # 整数商\n",
    "print(x1%2)  # 余数"
   ]
  },
  {
   "cell_type": "code",
   "execution_count": 15,
   "id": "b70d100d-6c13-422e-ab71-5accff66ce01",
   "metadata": {},
   "outputs": [],
   "source": [
    "### 绝对值"
   ]
  },
  {
   "cell_type": "code",
   "execution_count": 10,
   "id": "aec72e56-4493-4999-b458-89618d0ae621",
   "metadata": {},
   "outputs": [
    {
     "name": "stdout",
     "output_type": "stream",
     "text": [
      "[-2 -1  0  1]\n"
     ]
    },
    {
     "data": {
      "text/plain": [
       "array([2, 1, 0, 1])"
      ]
     },
     "execution_count": 10,
     "metadata": {},
     "output_type": "execute_result"
    }
   ],
   "source": [
    "x = np.arange(-2, 2)\n",
    "print(x)\n",
    "\n",
    "# abs\n",
    "np.abs(x)"
   ]
  },
  {
   "cell_type": "markdown",
   "id": "563c5fc6-c53f-491c-9530-b325586c31ab",
   "metadata": {},
   "source": [
    "### 三角函数\n"
   ]
  },
  {
   "cell_type": "code",
   "execution_count": 11,
   "id": "68a381ce-4602-4c8a-8208-2dff8af0a839",
   "metadata": {},
   "outputs": [
    {
     "name": "stdout",
     "output_type": "stream",
     "text": [
      "[0.0000000e+00 1.0000000e+00 1.2246468e-16]\n"
     ]
    }
   ],
   "source": [
    "x = np.linspace(0, np.pi, 3) # [0, pi/2, pi]\n",
    "\n",
    "print(np.sin(x))"
   ]
  },
  {
   "cell_type": "markdown",
   "id": "4489c3fa-d9af-4929-b7df-ca4e3e1c339c",
   "metadata": {},
   "source": [
    "### 指数运算"
   ]
  },
  {
   "cell_type": "code",
   "execution_count": 12,
   "id": "068a3b94-5746-4dfc-9409-22697bbe6e72",
   "metadata": {},
   "outputs": [
    {
     "data": {
      "text/plain": [
       "array([ 2.71828183,  7.3890561 , 20.08553692])"
      ]
     },
     "execution_count": 12,
     "metadata": {},
     "output_type": "execute_result"
    }
   ],
   "source": [
    "x = np.array([1,2,3])\n",
    "\n",
    "np.exp(x)"
   ]
  },
  {
   "cell_type": "markdown",
   "id": "888b67ce-7bd5-4c9b-8432-23f0821f45e1",
   "metadata": {},
   "source": [
    "### 对数运算"
   ]
  },
  {
   "cell_type": "code",
   "execution_count": 14,
   "id": "e8898139-f210-4e46-b019-6767d86ed3a1",
   "metadata": {},
   "outputs": [
    {
     "name": "stdout",
     "output_type": "stream",
     "text": [
      "[0.         0.69314718 1.09861229 1.38629436 1.60943791 1.79175947\n",
      " 1.94591015 2.07944154 2.19722458]\n",
      "[0.         1.         1.5849625  2.         2.32192809 2.5849625\n",
      " 2.80735492 3.         3.169925  ]\n",
      "[0.         0.30103    0.47712125 0.60205999 0.69897    0.77815125\n",
      " 0.84509804 0.90308999 0.95424251]\n"
     ]
    }
   ],
   "source": [
    "x = np.arange(1, 10)\n",
    "x\n",
    "\n",
    "print(np.log(x))\n",
    "print(np.log2(x))\n",
    "print(np.log10(x))"
   ]
  },
  {
   "cell_type": "markdown",
   "id": "f03cdddf-0932-4ad0-bc76-250b6f0d2fa7",
   "metadata": {},
   "source": [
    "### 两个数组的运算"
   ]
  },
  {
   "cell_type": "code",
   "execution_count": 18,
   "id": "fb250117-c131-4920-8efd-1eb7ad8f12b7",
   "metadata": {},
   "outputs": [
    {
     "name": "stdout",
     "output_type": "stream",
     "text": [
      "[1 2 3 4 5 6 7 8 9]\n",
      "[11 12 13 14 15 16 17 18 19]\n"
     ]
    }
   ],
   "source": [
    "x1 = np.arange(1, 10)\n",
    "x2 = np.arange(11, 20)\n",
    "print(x1)\n",
    "print(x2)"
   ]
  },
  {
   "cell_type": "code",
   "execution_count": 19,
   "id": "3c184564-c010-45f4-b8b7-4626c9229fb7",
   "metadata": {},
   "outputs": [
    {
     "data": {
      "text/plain": [
       "array([12, 14, 16, 18, 20, 22, 24, 26, 28])"
      ]
     },
     "execution_count": 19,
     "metadata": {},
     "output_type": "execute_result"
    }
   ],
   "source": [
    "x1 + x2"
   ]
  },
  {
   "cell_type": "markdown",
   "id": "dbd5d837-2834-482c-982d-a3d364f8bc4a",
   "metadata": {},
   "source": [
    "## 矩阵运算"
   ]
  },
  {
   "cell_type": "code",
   "execution_count": 22,
   "id": "123833f9-d20c-4e7e-b483-23d678bab45c",
   "metadata": {},
   "outputs": [
    {
     "data": {
      "text/plain": [
       "array([[0, 1, 2, 3, 4],\n",
       "       [5, 6, 7, 8, 9]])"
      ]
     },
     "execution_count": 22,
     "metadata": {},
     "output_type": "execute_result"
    }
   ],
   "source": [
    "x = np.arange(0,10).reshape(2,5)\n",
    "x"
   ]
  },
  {
   "cell_type": "markdown",
   "id": "555abec5-7b04-40f6-ace9-aef406658271",
   "metadata": {},
   "source": [
    "### 转置"
   ]
  },
  {
   "cell_type": "code",
   "execution_count": 24,
   "id": "06a350f2-5fd1-493b-b1ca-06298d75d726",
   "metadata": {},
   "outputs": [
    {
     "data": {
      "text/plain": [
       "array([[0, 5],\n",
       "       [1, 6],\n",
       "       [2, 7],\n",
       "       [3, 8],\n",
       "       [4, 9]])"
      ]
     },
     "execution_count": 24,
     "metadata": {},
     "output_type": "execute_result"
    }
   ],
   "source": [
    "x.T"
   ]
  },
  {
   "cell_type": "markdown",
   "id": "1acc3c38-a4dd-49f2-b860-064bdf9dfd1f",
   "metadata": {},
   "source": [
    "### 矩阵乘法"
   ]
  },
  {
   "cell_type": "markdown",
   "id": "330c976d-e5ef-4112-90c2-1ced7f5bb74d",
   "metadata": {},
   "source": [
    "注意和x1 * x2区别(对应元素相乘)"
   ]
  },
  {
   "cell_type": "code",
   "execution_count": 28,
   "id": "7fce8178-5cce-431f-8fa8-81bb5866afd1",
   "metadata": {},
   "outputs": [
    {
     "data": {
      "text/plain": [
       "array([[12, 36],\n",
       "       [15, 45]])"
      ]
     },
     "execution_count": 28,
     "metadata": {},
     "output_type": "execute_result"
    }
   ],
   "source": [
    "x1 = np.random.randint(0,10,size=(1,2))\n",
    "x2 = np.random.randint(0,10,size=(2,1))\n",
    "\n",
    "x1.dot(x2)\n",
    "\n",
    "np.dot(x1, x2)\n",
    "\n",
    "x2.dot(x1)"
   ]
  },
  {
   "cell_type": "markdown",
   "id": "4091f43f-42bf-4b88-9141-aebbb3a64d59",
   "metadata": {},
   "source": [
    "### 广播运算"
   ]
  },
  {
   "cell_type": "markdown",
   "id": "f20a6c46-f1dc-4632-876b-85b1d678de08",
   "metadata": {
    "tags": []
   },
   "source": [
    "**如果两个矩阵格式不满足, 会将维度为1的部分进行扩展, 扩展成为满足的情况.**\n",
    "\n",
    "<img src=\"./pic/broadcast.png\" width=\"400\" height=\"400\" />\n"
   ]
  },
  {
   "cell_type": "code",
   "execution_count": 29,
   "id": "efecb7f5-662d-4bf4-ab92-7637712effbc",
   "metadata": {},
   "outputs": [
    {
     "data": {
      "text/plain": [
       "array([5, 6, 7])"
      ]
     },
     "execution_count": 29,
     "metadata": {},
     "output_type": "execute_result"
    }
   ],
   "source": [
    "x = np.array([0,1,2])\n",
    "x + 5"
   ]
  },
  {
   "cell_type": "code",
   "execution_count": 32,
   "id": "921c59f7-9ce6-44c3-82c5-a9dd4a68a89e",
   "metadata": {},
   "outputs": [
    {
     "data": {
      "text/plain": [
       "array([[1., 2., 3.],\n",
       "       [1., 2., 3.],\n",
       "       [1., 2., 3.]])"
      ]
     },
     "execution_count": 32,
     "metadata": {},
     "output_type": "execute_result"
    }
   ],
   "source": [
    "x1 = np.ones((3,3))\n",
    "x2 = np.array([0,1,2])\n",
    "\n",
    "x1 + x2"
   ]
  },
  {
   "cell_type": "code",
   "execution_count": 34,
   "id": "b5fd792b-8100-40de-b014-4dc84e0f9b5a",
   "metadata": {},
   "outputs": [
    {
     "data": {
      "text/plain": [
       "array([[0, 1, 2],\n",
       "       [1, 2, 3],\n",
       "       [2, 3, 4]])"
      ]
     },
     "execution_count": 34,
     "metadata": {},
     "output_type": "execute_result"
    }
   ],
   "source": [
    "x1 = np.array([0,1,2]).reshape(3,1)\n",
    "x2 = np.array([0,1,2])\n",
    "\n",
    "x1 + x2"
   ]
  },
  {
   "cell_type": "code",
   "execution_count": null,
   "id": "d2f091f8-14c4-4f5d-9049-4a678ecf0996",
   "metadata": {},
   "outputs": [],
   "source": []
  }
 ],
 "metadata": {
  "kernelspec": {
   "display_name": "Python 3",
   "language": "python",
   "name": "python3"
  },
  "language_info": {
   "codemirror_mode": {
    "name": "ipython",
    "version": 3
   },
   "file_extension": ".py",
   "mimetype": "text/x-python",
   "name": "python",
   "nbconvert_exporter": "python",
   "pygments_lexer": "ipython3",
   "version": "3.8.8"
  },
  "toc-autonumbering": true,
  "toc-showmarkdowntxt": false,
  "toc-showtags": false
 },
 "nbformat": 4,
 "nbformat_minor": 5
}
