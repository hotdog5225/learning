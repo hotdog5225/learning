{
 "cells": [
  {
   "cell_type": "code",
   "execution_count": 1,
   "id": "3c45f968",
   "metadata": {},
   "outputs": [
    {
     "name": "stdout",
     "output_type": "stream",
     "text": [
      "[1 2 3 4]\n",
      "(4,)\n",
      "<class 'numpy.ndarray'>\n",
      "<class 'numpy.int64'>\n",
      "[1. 2. 3. 4.]\n",
      "1.0\n",
      "<class 'numpy.float32'>\n",
      "[[1 2]\n",
      " [3 4]\n",
      " [5 6]]\n",
      "(3, 2)\n"
     ]
    }
   ],
   "source": [
    "import numpy as np\n",
    "\n",
    "# 从list创建数组\n",
    "\n",
    "# 从列表list创建一维数组\n",
    "x = np.array([1,2,3,4])\n",
    "print(x)\n",
    "print(x.shape)\n",
    "print(type(x))\n",
    "print(type(x[0]))\n",
    "                            # [1 2 3 4]\n",
    "                            # (4,)\n",
    "                            # <class 'numpy.ndarray'>\n",
    "                            # <class 'numpy.int64'>\n",
    "                \n",
    "\n",
    "# 指定数组元素数据类型 (numpy的数组的类型必须一致)\n",
    "x = np.array([1,2,3,4], dtype=\"float32\")\n",
    "print(x)\n",
    "print(x[0])\n",
    "print(type(x[0]))\n",
    "                            # [1. 2. 3. 4.]\n",
    "                            # 1.0\n",
    "                            # <class 'numpy.float32'>\n",
    "            \n",
    "\n",
    "# 从列表创建二维数组\n",
    "x = np.array([\n",
    "    [1,2],\n",
    "    [3,4],\n",
    "    [5,6]\n",
    "])\n",
    "print(x)\n",
    "print(x.shape)\n",
    "                            # [[1 2]\n",
    "                            #  [3 4]\n",
    "                            #  [5 6]]\n",
    "                            # (3, 2)\n"
   ]
  },
  {
   "cell_type": "code",
   "execution_count": 7,
   "id": "5e97e047",
   "metadata": {},
   "outputs": [
    {
     "name": "stdout",
     "output_type": "stream",
     "text": [
      "[0 0 0 0 0]\n",
      "[[1. 1. 1. 1.]\n",
      " [1. 1. 1. 1.]]\n",
      "[[8 8 8 8 8]\n",
      " [8 8 8 8 8]\n",
      " [8 8 8 8 8]]\n",
      "[[1. 0. 0.]\n",
      " [0. 1. 0.]\n",
      " [0. 0. 1.]]\n",
      "[ 1  3  5  7  9 11 13]\n",
      "[0.         0.33333333 0.66666667 1.        ]\n"
     ]
    }
   ],
   "source": [
    "import numpy as np\n",
    "\n",
    "# 从无到有创建数组\n",
    "\n",
    "# 创建长度为5, 值为0的数组\n",
    "x = np.zeros(5, dtype=int)\n",
    "print(x)\n",
    "                                    # [0 0 0 0 0]\n",
    "\n",
    "# 创建一个2*4的浮点型数组, 值都为1\n",
    "x = np.ones((2, 4), dtype=float)\n",
    "print(x)\n",
    "                                    # [[1. 1. 1. 1.]\n",
    "                                    #  [1. 1. 1. 1.]]\n",
    "        \n",
    "# 创建一个3*5的数组, 值都是8\n",
    "x = np.full((3,5), 8)\n",
    "print(x)\n",
    "                                    # [[8 8 8 8 8]\n",
    "                                    #  [8 8 8 8 8]\n",
    "                                    #  [8 8 8 8 8]]\n",
    "            \n",
    "# 创建一个3*3的单位矩阵\n",
    "x = np.eye(3)\n",
    "print(x)\n",
    "                                    # [[1. 0. 0.]\n",
    "                                    #  [0. 1. 0.]\n",
    "                                    #  [0. 0. 1.]]\n",
    "            \n",
    "# 创建一个线性的序列数组: 从1开始, 15结束, 步长为2\n",
    "x = np.arange(1, 15, 2)\n",
    "print(x)                            # [ 1  3  5  7  9 11 13]\n",
    "\n",
    "# 创建一个等差数列: 4个元素, 将0-1等分成三份\n",
    "x = np.linspace(0,1,4)\n",
    "print(x)  \n",
    "                                    # [0.         0.33333333 0.66666667 1.        ]\n",
    "    \n",
    "# 创建一个等比数列, 从10^0 - 10^9次方, "
   ]
  },
  {
   "cell_type": "code",
   "execution_count": null,
   "id": "230ea4dd",
   "metadata": {},
   "outputs": [],
   "source": []
  }
 ],
 "metadata": {
  "kernelspec": {
   "display_name": "Python 3",
   "language": "python",
   "name": "python3"
  },
  "language_info": {
   "codemirror_mode": {
    "name": "ipython",
    "version": 3
   },
   "file_extension": ".py",
   "mimetype": "text/x-python",
   "name": "python",
   "nbconvert_exporter": "python",
   "pygments_lexer": "ipython3",
   "version": "3.8.8"
  }
 },
 "nbformat": 4,
 "nbformat_minor": 5
}
