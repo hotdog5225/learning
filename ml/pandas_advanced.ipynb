{
 "cells": [
  {
   "cell_type": "markdown",
   "id": "abc481e6-4036-4001-a5c8-29b44fe06a02",
   "metadata": {},
   "source": [
    "# 实战"
   ]
  },
  {
   "cell_type": "code",
   "execution_count": null,
   "id": "9af369de-0b4f-4808-9560-420a9912011d",
   "metadata": {},
   "outputs": [],
   "source": [
    "## "
   ]
  },
  {
   "cell_type": "markdown",
   "id": "55124828-bf8a-4296-ba17-3fb2f8d7194f",
   "metadata": {},
   "source": [
    "# axis的用法\n",
    "\n",
    "> numpy中对axis的定义: **轴用来为超过一维的数组定义的属性，二维数据拥有两个轴：**\n",
    "\n",
    "\n",
    "- **第0轴: 沿着行的垂直往下(按纵轴, 从上到下)，**\n",
    "\n",
    "- **第1轴沿着列的方向水平延伸(按横轴, 从左到右)。**\n",
    "\n",
    "```python\n",
    "df.means(axis=1): 按横轴上, 计算每一行的均值\n",
    "df.drop([\"col0\", \"col1\"], axis=1): 从左到右, 依次删除list中指定的各列.\n",
    "```\n",
    "\n",
    "<img src=\"./pic/axis.png\" align=\"middle\" width=500>\n",
    "\n",
    "- `axis=0` **按纵轴**(**从上到下计算**)进行计算, 得到的是**每列**的结果.\n",
    "    - '0': 胖子, 最终得到的结果是\"一行\"\n",
    "\n",
    "- `axis=1` **按横轴**(**从左到右计算**)进行计算, 得到的是**每行**的结果.\n",
    "    - '1':瘦子, 最终得到的结果是\"一列\"\n",
    "\n",
    "    "
   ]
  },
  {
   "cell_type": "markdown",
   "id": "090d7b1d-1be5-406f-9380-040b5544c86a",
   "metadata": {},
   "source": [
    "# 避免链式赋值操作\n",
    "\n",
    "[避免链式赋操作](https://www.cnblogs.com/ljhdo/p/12036510.html)\n",
    "\n",
    "链式操作会返回原DataFrame的copy, 任何set操作不会影响原DataFrame。\n",
    "\n",
    "`data[data.bidder == 'parakeet2004']['bidderrate'] = 100` # 显示链式操作"
   ]
  },
  {
   "cell_type": "markdown",
   "id": "47f2da38-2b44-422d-b81a-72a514769682",
   "metadata": {},
   "source": [
    "# one-hot编码\n",
    "\n",
    "> 当分类特征是离散的，无序时(如性别有男、女，城市有北京，上海，深圳等)，采用独热编码对数据进行处理\n",
    "\n",
    "`pd.get_dummies()`\n",
    "\n",
    "[one-hot编码](https://www.cxyzjd.com/article/xiuxiuxiu666/104296783)"
   ]
  }
 ],
 "metadata": {
  "kernelspec": {
   "display_name": "Python 3",
   "language": "python",
   "name": "python3"
  },
  "language_info": {
   "codemirror_mode": {
    "name": "ipython",
    "version": 3
   },
   "file_extension": ".py",
   "mimetype": "text/x-python",
   "name": "python",
   "nbconvert_exporter": "python",
   "pygments_lexer": "ipython3",
   "version": "3.8.8"
  }
 },
 "nbformat": 4,
 "nbformat_minor": 5
}
