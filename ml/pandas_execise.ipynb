{
 "cells": [
  {
   "cell_type": "code",
   "execution_count": 35,
   "id": "fb16feaa-efb6-4f19-8a68-2795645bed38",
   "metadata": {
    "tags": []
   },
   "outputs": [],
   "source": [
    "import pandas as pd\n",
    "import numpy as np\n",
    "import matplotlib.pyplot as plt"
   ]
  },
  {
   "cell_type": "markdown",
   "id": "a1be6fd9-bc2c-4dd2-a7aa-aee9b6fe3a8a",
   "metadata": {},
   "source": [
    "# 读取文件, 生成DataFrame"
   ]
  },
  {
   "cell_type": "code",
   "execution_count": 7,
   "id": "37e37291-486c-4636-bf66-b04be3399223",
   "metadata": {
    "tags": []
   },
   "outputs": [],
   "source": [
    "import pandas as pd\n",
    "import numpy as np\n",
    "\n",
    "# use the first line of file as columns names, if no columns names in the file, use \"header=None\"\n",
    "train = pd.read_csv(\"./data/train.csv\", header=[0])\n",
    "\n",
    "test = pd.read_csv(\"./data/test.csv\", header=[0])"
   ]
  },
  {
   "cell_type": "code",
   "execution_count": 8,
   "id": "a9d97e1e-cbbf-465f-a283-c62ac357deab",
   "metadata": {},
   "outputs": [
    {
     "data": {
      "text/html": [
       "<div>\n",
       "<style scoped>\n",
       "    .dataframe tbody tr th:only-of-type {\n",
       "        vertical-align: middle;\n",
       "    }\n",
       "\n",
       "    .dataframe tbody tr th {\n",
       "        vertical-align: top;\n",
       "    }\n",
       "\n",
       "    .dataframe thead th {\n",
       "        text-align: right;\n",
       "    }\n",
       "</style>\n",
       "<table border=\"1\" class=\"dataframe\">\n",
       "  <thead>\n",
       "    <tr style=\"text-align: right;\">\n",
       "      <th></th>\n",
       "      <th>user</th>\n",
       "      <th>item</th>\n",
       "      <th>rating</th>\n",
       "      <th>timestamp</th>\n",
       "    </tr>\n",
       "  </thead>\n",
       "  <tbody>\n",
       "    <tr>\n",
       "      <th>0</th>\n",
       "      <td>1</td>\n",
       "      <td>1</td>\n",
       "      <td>5</td>\n",
       "      <td>874965758</td>\n",
       "    </tr>\n",
       "    <tr>\n",
       "      <th>1</th>\n",
       "      <td>1</td>\n",
       "      <td>2</td>\n",
       "      <td>3</td>\n",
       "      <td>876893171</td>\n",
       "    </tr>\n",
       "    <tr>\n",
       "      <th>2</th>\n",
       "      <td>1</td>\n",
       "      <td>3</td>\n",
       "      <td>4</td>\n",
       "      <td>878542960</td>\n",
       "    </tr>\n",
       "    <tr>\n",
       "      <th>3</th>\n",
       "      <td>1</td>\n",
       "      <td>4</td>\n",
       "      <td>3</td>\n",
       "      <td>876893119</td>\n",
       "    </tr>\n",
       "    <tr>\n",
       "      <th>4</th>\n",
       "      <td>1</td>\n",
       "      <td>5</td>\n",
       "      <td>3</td>\n",
       "      <td>889751712</td>\n",
       "    </tr>\n",
       "  </tbody>\n",
       "</table>\n",
       "</div>"
      ],
      "text/plain": [
       "   user  item  rating  timestamp\n",
       "0     1     1       5  874965758\n",
       "1     1     2       3  876893171\n",
       "2     1     3       4  878542960\n",
       "3     1     4       3  876893119\n",
       "4     1     5       3  889751712"
      ]
     },
     "execution_count": 8,
     "metadata": {},
     "output_type": "execute_result"
    }
   ],
   "source": [
    "# 读取文件指定header, 指定delimiter\n",
    "cols = ['user','item','rating','timestamp']\n",
    "\n",
    "train = pd.read_csv('./data/ua.base',delimiter='\\t',names = cols)\n",
    "train.head()"
   ]
  },
  {
   "cell_type": "markdown",
   "id": "6dc5272d-6c73-4b4a-bb20-9472c151c757",
   "metadata": {},
   "source": [
    "# 查看一下数据结构"
   ]
  },
  {
   "cell_type": "markdown",
   "id": "26a38625-0629-4c04-bfd9-a0bc88bdabdc",
   "metadata": {},
   "source": [
    "## 查看各个feature取值的集合的大小"
   ]
  },
  {
   "cell_type": "code",
   "execution_count": 16,
   "id": "57c77040-3e7b-4908-81ed-1ce1205209c9",
   "metadata": {
    "tags": []
   },
   "outputs": [
    {
     "data": {
      "text/plain": [
       "PassengerId    712\n",
       "Survived         2\n",
       "Pclass           3\n",
       "Name           712\n",
       "Sex              2\n",
       "Age             82\n",
       "SibSp            7\n",
       "Parch            7\n",
       "Ticket         570\n",
       "Fare           235\n",
       "Cabin          128\n",
       "Embarked         3\n",
       "dtype: int64"
      ]
     },
     "execution_count": 16,
     "metadata": {},
     "output_type": "execute_result"
    }
   ],
   "source": [
    "# prepare data\n",
    "train = pd.read_csv(\"./data/titanic/train.csv\")\n",
    "\n",
    "train.nunique()"
   ]
  },
  {
   "cell_type": "markdown",
   "id": "9aa815b1-653c-4de5-8fc5-a942a30209ba",
   "metadata": {},
   "source": [
    "## 分析某个feature的各个取值比例"
   ]
  },
  {
   "cell_type": "code",
   "execution_count": 19,
   "id": "2c044a66-07db-41a6-8313-5679d1ce50cf",
   "metadata": {
    "tags": []
   },
   "outputs": [
    {
     "data": {
      "text/plain": [
       "<AxesSubplot:>"
      ]
     },
     "execution_count": 19,
     "metadata": {},
     "output_type": "execute_result"
    },
    {
     "data": {
      "image/png": "[encoded data removed]",
      "text/plain": [
       "<Figure size 432x288 with 1 Axes>"
      ]
     },
     "metadata": {
      "needs_background": "light"
     },
     "output_type": "display_data"
    }
   ],
   "source": [
    "# series.value_counts\n",
    "pd.DataFrame(train.Survived.value_counts()).plot(kind=\"bar\")"
   ]
  },
  {
   "cell_type": "markdown",
   "id": "0efbd38b-db4e-4fe3-86bc-5f71206c006f",
   "metadata": {},
   "source": [
    "# EDA"
   ]
  },
  {
   "cell_type": "markdown",
   "id": "2f38e41d-7003-4fd4-96ac-8fd00cddc82c",
   "metadata": {},
   "source": [
    "## 查看各个特征之间的关系"
   ]
  },
  {
   "cell_type": "code",
   "execution_count": 20,
   "id": "80aa4691-a2bc-4ac5-b383-35d80b80bd32",
   "metadata": {
    "collapsed": true,
    "jupyter": {
     "outputs_hidden": true
    },
    "tags": []
   },
   "outputs": [
    {
     "data": {
      "text/html": [
       "<div>\n",
       "<style scoped>\n",
       "    .dataframe tbody tr th:only-of-type {\n",
       "        vertical-align: middle;\n",
       "    }\n",
       "\n",
       "    .dataframe tbody tr th {\n",
       "        vertical-align: top;\n",
       "    }\n",
       "\n",
       "    .dataframe thead th {\n",
       "        text-align: right;\n",
       "    }\n",
       "</style>\n",
       "<table border=\"1\" class=\"dataframe\">\n",
       "  <thead>\n",
       "    <tr style=\"text-align: right;\">\n",
       "      <th></th>\n",
       "      <th></th>\n",
       "      <th>Survived</th>\n",
       "    </tr>\n",
       "    <tr>\n",
       "      <th>Sex</th>\n",
       "      <th>Survived</th>\n",
       "      <th></th>\n",
       "    </tr>\n",
       "  </thead>\n",
       "  <tbody>\n",
       "    <tr>\n",
       "      <th rowspan=\"2\" valign=\"top\">female</th>\n",
       "      <th>1</th>\n",
       "      <td>75.390625</td>\n",
       "    </tr>\n",
       "    <tr>\n",
       "      <th>0</th>\n",
       "      <td>24.609375</td>\n",
       "    </tr>\n",
       "    <tr>\n",
       "      <th rowspan=\"2\" valign=\"top\">male</th>\n",
       "      <th>0</th>\n",
       "      <td>81.140351</td>\n",
       "    </tr>\n",
       "    <tr>\n",
       "      <th>1</th>\n",
       "      <td>18.859649</td>\n",
       "    </tr>\n",
       "  </tbody>\n",
       "</table>\n",
       "</div>"
      ],
      "text/plain": [
       "                  Survived\n",
       "Sex    Survived           \n",
       "female 1         75.390625\n",
       "       0         24.609375\n",
       "male   0         81.140351\n",
       "       1         18.859649"
      ]
     },
     "execution_count": 20,
     "metadata": {},
     "output_type": "execute_result"
    }
   ],
   "source": [
    "# 查看 性别Sex 对 存活Survived 的影响\n",
    "pd.DataFrame(train.groupby(\"Sex\")[\"Survived\"].value_counts(normalize=True)*100) # 转化成DataFrame是为了好观察"
   ]
  },
  {
   "cell_type": "code",
   "execution_count": 21,
   "id": "1a010c0a-e8d9-419e-8e9a-1d6b16b68cd9",
   "metadata": {
    "collapsed": true,
    "jupyter": {
     "outputs_hidden": true
    },
    "tags": []
   },
   "outputs": [
    {
     "data": {
      "text/html": [
       "<div>\n",
       "<style scoped>\n",
       "    .dataframe tbody tr th:only-of-type {\n",
       "        vertical-align: middle;\n",
       "    }\n",
       "\n",
       "    .dataframe tbody tr th {\n",
       "        vertical-align: top;\n",
       "    }\n",
       "\n",
       "    .dataframe thead th {\n",
       "        text-align: right;\n",
       "    }\n",
       "</style>\n",
       "<table border=\"1\" class=\"dataframe\">\n",
       "  <thead>\n",
       "    <tr style=\"text-align: right;\">\n",
       "      <th>Survived</th>\n",
       "      <th>0</th>\n",
       "      <th>1</th>\n",
       "    </tr>\n",
       "    <tr>\n",
       "      <th>Sex</th>\n",
       "      <th></th>\n",
       "      <th></th>\n",
       "    </tr>\n",
       "  </thead>\n",
       "  <tbody>\n",
       "    <tr>\n",
       "      <th>female</th>\n",
       "      <td>63</td>\n",
       "      <td>193</td>\n",
       "    </tr>\n",
       "    <tr>\n",
       "      <th>male</th>\n",
       "      <td>370</td>\n",
       "      <td>86</td>\n",
       "    </tr>\n",
       "  </tbody>\n",
       "</table>\n",
       "</div>"
      ],
      "text/plain": [
       "Survived    0    1\n",
       "Sex               \n",
       "female     63  193\n",
       "male      370   86"
      ]
     },
     "execution_count": 21,
     "metadata": {},
     "output_type": "execute_result"
    }
   ],
   "source": [
    "# 查看 性别Sex 和 存活Survived 的交叉表\n",
    "pd.crosstab(train.Sex, train.Survived)"
   ]
  },
  {
   "cell_type": "code",
   "execution_count": 22,
   "id": "7da3462c-da99-40ba-8cb8-7ff22e1ed402",
   "metadata": {
    "collapsed": true,
    "jupyter": {
     "outputs_hidden": true
    },
    "tags": []
   },
   "outputs": [
    {
     "data": {
      "text/plain": [
       "<AxesSubplot:xlabel='Sex'>"
      ]
     },
     "execution_count": 22,
     "metadata": {},
     "output_type": "execute_result"
    },
    {
     "data": {
      "image/png": "[encoded data removed]",
      "text/plain": [
       "<Figure size 432x288 with 1 Axes>"
      ]
     },
     "metadata": {
      "needs_background": "light"
     },
     "output_type": "display_data"
    }
   ],
   "source": [
    "pd.crosstab(train.Sex, train.Survived).plot(kind=\"bar\")\n",
    "# 明显可以看出, 男性的死亡率高."
   ]
  },
  {
   "cell_type": "code",
   "execution_count": 62,
   "id": "ca153975-c0f0-4840-843a-d6e01f0a920b",
   "metadata": {},
   "outputs": [
    {
     "data": {
      "text/plain": [
       "Text(0, 0.5, 'frequency')"
      ]
     },
     "execution_count": 62,
     "metadata": {},
     "output_type": "execute_result"
    },
    {
     "data": {
      "image/png": "[encoded data removed]",
      "text/plain": [
       "<Figure size 432x288 with 1 Axes>"
      ]
     },
     "metadata": {
      "needs_background": "light"
     },
     "output_type": "display_data"
    }
   ],
   "source": [
    "# 查看存活/死亡(Survived==1/0)的人群中 年龄(age)分布\n",
    "ax = train.query(\"Survived == 1\")[\"Age\"].plot(kind=\"density\") # 概率密度曲线\n",
    "train.query(\"Survived == 0\")[\"Age\"].plot(kind=\"density\")\n",
    "\n",
    "ax.legend(labels=[\"Survived == 1\", \"Survived == 0\"]) # 设置图示\n",
    "\n",
    "ax.set_xlabel(\"age\")\n",
    "ax.set_ylabel(\"frequency\")"
   ]
  },
  {
   "cell_type": "markdown",
   "id": "def5e715-a19c-4db3-98fa-12c655e0d329",
   "metadata": {},
   "source": [
    "# 特征工程"
   ]
  },
  {
   "cell_type": "markdown",
   "id": "3d39d11d-2ead-4d89-a361-a93b55bc1542",
   "metadata": {},
   "source": [
    "## 查看各个feature的空值情况"
   ]
  },
  {
   "cell_type": "code",
   "execution_count": 63,
   "id": "e24af645-15ca-4d41-9ad0-0075c5458629",
   "metadata": {
    "tags": []
   },
   "outputs": [
    {
     "data": {
      "text/plain": [
       "PassengerId      0\n",
       "Survived         0\n",
       "Pclass           0\n",
       "Name             0\n",
       "Sex              0\n",
       "Age            146\n",
       "SibSp            0\n",
       "Parch            0\n",
       "Ticket           0\n",
       "Fare             0\n",
       "Cabin          544\n",
       "Embarked         2\n",
       "dtype: int64"
      ]
     },
     "execution_count": 63,
     "metadata": {},
     "output_type": "execute_result"
    }
   ],
   "source": [
    "train.isna().sum()"
   ]
  },
  {
   "cell_type": "markdown",
   "id": "0cc842be-8a70-461d-a493-ddfdba14f8c6",
   "metadata": {},
   "source": [
    "## 填充空缺值"
   ]
  },
  {
   "cell_type": "markdown",
   "id": "2c01f4b2-5c41-4e68-ad0c-1604622cd7f2",
   "metadata": {},
   "source": [
    "### 对一列的空值填充:固定值"
   ]
  },
  {
   "cell_type": "code",
   "execution_count": null,
   "id": "11511141-1bf0-4fc8-8be5-801bbaf874d9",
   "metadata": {},
   "outputs": [],
   "source": [
    "train.Embarked.fillna(\"S\", inplace=True)"
   ]
  },
  {
   "cell_type": "markdown",
   "id": "8792c22c-94ca-4559-9ba8-1b03ed172bd3",
   "metadata": {},
   "source": [
    "### 对一列的空值填充:中位数"
   ]
  },
  {
   "cell_type": "code",
   "execution_count": null,
   "id": "8a170ada-7987-4410-aa47-e96cecc31951",
   "metadata": {},
   "outputs": [],
   "source": [
    "# 车票跟船舱等级Pclass & 出发地Embarked 有关系\n",
    "test_empty_fare = test[test.Fare.isna()]\n",
    "\n",
    "# bool索引 & 使用中位数median进行填充\n",
    "median = test[(test.Embarked==\"S\") & (test.Pclass==3)].Fare.median()\n",
    "\n",
    "# 填充                                \n",
    "test.Fare.fillna(median, inplace=True)"
   ]
  },
  {
   "cell_type": "markdown",
   "id": "0e910f6e-ebf3-4baa-bf3a-0ece1c6d22aa",
   "metadata": {},
   "source": [
    "### 针对每行数据, 进行不同的空值填充"
   ]
  },
  {
   "cell_type": "markdown",
   "id": "67188ecf-ecd3-4870-8c96-b9916866bf6c",
   "metadata": {},
   "source": [
    "#### 数据分桶(船票价格)"
   ]
  },
  {
   "cell_type": "code",
   "execution_count": null,
   "id": "8d809fde-cabc-47c4-ae23-0e51c05e6fdd",
   "metadata": {},
   "outputs": [],
   "source": [
    "# 根据排序 或 基于样本分位数 将变量 分到大小相等的桶中。\n",
    "# pandas.qcut(x, q, labels=None) \n",
    "train_fare_grp = pd.qcut(train.Fare, 4, labels=['Economy','Economy Plus','Business','First'])\n",
    "train_fare_grp"
   ]
  },
  {
   "cell_type": "code",
   "execution_count": null,
   "id": "2830385b-16ff-4ae9-a7c5-456f1a57881a",
   "metadata": {},
   "outputs": [],
   "source": [
    "## 增加一列数据\n",
    "train['Fare_Grp'] = train_fare_grp\n",
    "train.head()"
   ]
  },
  {
   "cell_type": "markdown",
   "id": "6d0e29ce-f380-4ede-8157-f7534025beb8",
   "metadata": {},
   "source": [
    "#### 根据\"船票的等级Fare_Grp\" 和 \"船舱等级 Pclass\" 对 \"Cabin\"进行填充"
   ]
  },
  {
   "cell_type": "code",
   "execution_count": null,
   "id": "a2260ba9-463d-4576-88f8-4a826241fe7e",
   "metadata": {
    "jupyter": {
     "source_hidden": true
    },
    "tags": []
   },
   "outputs": [],
   "source": [
    "def fill_cabin(df):\n",
    "    # 遍历df的所有行\n",
    "    for i in range(len(df)):\n",
    "        # 找到cabin为空的行\n",
    "        if (df.Cabin.isna()[i]):\n",
    "            # 获取该行样本的 Pclass 和 Fare_Grp\n",
    "            pclass = df.iloc[i, :][\"Pclass\"]\n",
    "            fare_grp = df.iloc[i, :][\"Fare_Grp\"]\n",
    "            # 取满足pclass or fare_grp相等的所有样本的cabin众数.\n",
    "            cabin_mode = df[(df['Pclass'] == pclass) | (df['Fare_Grp'] == fare_grp)].Cabin.mode().values[0] # 众数可能不止一个, 取第一个\n",
    "            # 填充cabin空值\n",
    "            df[\"Cabin\"].iloc[i] = cabin_mode # OK 先取列, 再取行\n",
    "            # df.iloc[i][\"Cabin\"] = cabin_mode # not work\n",
    "\n",
    "train.isna().sum()\n",
    "fill_cabin(train)\n"
   ]
  },
  {
   "cell_type": "markdown",
   "id": "602f0156-83be-4c0d-94ae-716daba9451f",
   "metadata": {},
   "source": [
    "## 对一个column的内容进行mapper替换"
   ]
  },
  {
   "cell_type": "code",
   "execution_count": null,
   "id": "05336634-6ba9-4310-a0e4-52e6377e7de4",
   "metadata": {},
   "outputs": [],
   "source": [
    "# 替换DataFrame/Series的值\n",
    "# DataFrame/Series.replace(to_replace=None, value=None, inplace=False)\n",
    "\n",
    "# 两个list长度要相等, 一一对应替换\n",
    "train.Name.replace([\"Mr.\", \"Mrs.\"], [\"MR.\", \"MRS.\"], inplace=True)\n",
    "train.head()"
   ]
  },
  {
   "cell_type": "markdown",
   "id": "8f94e19c-a6d8-441b-b378-98508fc3ce8c",
   "metadata": {},
   "source": [
    "## 拼接train和test数据集"
   ]
  },
  {
   "cell_type": "code",
   "execution_count": null,
   "id": "b1da5e1e-13aa-490e-b88e-fbfa960bdb47",
   "metadata": {},
   "outputs": [],
   "source": [
    "tmp_test = pd.DataFrame(np.random.randint(0,5,size=(2,3)), columns=[\"first\", \"second\", \"third\"])\n",
    "tmp_train = pd.DataFrame(np.random.randint(6,10,size=(3,3)), columns=[\"first\", \"second\", \"third\"])\n",
    "\n",
    "\n",
    "data = pd.concat([tmp_test, tmp_train], axis=0, ignore_index=True)"
   ]
  },
  {
   "cell_type": "markdown",
   "id": "0a665d75-1ec2-4ba0-bd23-98aeffba84d1",
   "metadata": {},
   "source": [
    "## one-hot编码"
   ]
  },
  {
   "cell_type": "code",
   "execution_count": null,
   "id": "8f9c64b6-dc68-4a67-a15c-270490d9dd45",
   "metadata": {},
   "outputs": [],
   "source": [
    "data[\"label\"] = [\"A\", \"B\", \"A\", \"B\", \"A\"]\n",
    "# DataFrame不会对整数进行one-hot编码, 但是Series会.\n",
    "pd.get_dummies(data, drop_first=True)"
   ]
  },
  {
   "cell_type": "code",
   "execution_count": null,
   "id": "9c2b9706-7ab3-48b8-b7e9-12fec9aaafdd",
   "metadata": {
    "collapsed": true,
    "jupyter": {
     "outputs_hidden": true
    }
   },
   "outputs": [],
   "source": []
  }
 ],
 "metadata": {
  "kernelspec": {
   "display_name": "Python 3",
   "language": "python",
   "name": "python3"
  },
  "language_info": {
   "codemirror_mode": {
    "name": "ipython",
    "version": 3
   },
   "file_extension": ".py",
   "mimetype": "text/x-python",
   "name": "python",
   "nbconvert_exporter": "python",
   "pygments_lexer": "ipython3",
   "version": "3.8.8"
  },
  "toc-autonumbering": true
 },
 "nbformat": 4,
 "nbformat_minor": 5
}
