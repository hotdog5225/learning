{
 "cells": [
  {
   "cell_type": "markdown",
   "id": "eccf284d-b503-4980-8f1f-898e47535a7d",
   "metadata": {},
   "source": [
    "# matplotlib\n",
    "\n",
    "[莫凡 plt](https://mofanpy.com/tutorials/data-manipulation/plt/)"
   ]
  },
  {
   "cell_type": "code",
   "execution_count": null,
   "id": "c5751d99-a01a-4ba8-9b24-6594802ff41d",
   "metadata": {},
   "outputs": [],
   "source": []
  }
 ],
 "metadata": {
  "kernelspec": {
   "display_name": "Python 3",
   "language": "python",
   "name": "python3"
  },
  "language_info": {
   "codemirror_mode": {
    "name": "ipython",
    "version": 3
   },
   "file_extension": ".py",
   "mimetype": "text/x-python",
   "name": "python",
   "nbconvert_exporter": "python",
   "pygments_lexer": "ipython3",
   "version": "3.8.8"
  }
 },
 "nbformat": 4,
 "nbformat_minor": 5
}
