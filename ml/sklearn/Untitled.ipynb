{
 "cells": [
  {
   "cell_type": "markdown",
   "id": "d40958ed-a6c6-4e10-a64a-59744ccf1cbf",
   "metadata": {},
   "source": [
    "# 归一化"
   ]
  },
  {
   "cell_type": "code",
   "execution_count": null,
   "id": "04521579-e273-474a-9dac-96599339a954",
   "metadata": {},
   "outputs": [],
   "source": [
    "from sklearn.preprocessing import StandardScaler"
   ]
  },
  {
   "cell_type": "code",
   "execution_count": null,
   "id": "8cf07f12-1275-447b-baad-4369d81d1c3c",
   "metadata": {},
   "outputs": [],
   "source": [
    "from sklearn.preprocessing import MinMaxScaler\n",
    "\n",
    "mms = MinMaxScaler(feature_range=(0, 1))\n",
    "X_train = mms.fit_transform(X_train)\n",
    "X_valid = mms.fit_transform(X_valid)\n",
    "test = mms.fit_transform(test)"
   ]
  },
  {
   "cell_type": "markdown",
   "id": "192258f0-8626-49af-86e4-4be0621cb747",
   "metadata": {},
   "source": [
    "# 对于分类特征进行特征值编码"
   ]
  },
  {
   "cell_type": "code",
   "execution_count": null,
   "id": "a9d7e1c8-8c38-4deb-9895-3ffd23c8cd70",
   "metadata": {},
   "outputs": [],
   "source": [
    "from sklearn.preprocessing import LabelEncoder\n",
    "\n",
    "# 对于分类特征进行特征值编码\n",
    "attr = [\n",
    "    \"Age\",\n",
    "    \"BusinessTravel\",\n",
    "    \"Department\",\n",
    "    \"Education\",\n",
    "    \"EducationField\",\n",
    "    \"Gender\",\n",
    "    \"JobRole\",\n",
    "    \"MaritalStatus\",\n",
    "    \"Over18\",\n",
    "    \"OverTime\",\n",
    "]\n",
    "lbe_list = []\n",
    "for feature in attr:\n",
    "    lbe = LabelEncoder()\n",
    "    train[feature] = lbe.fit_transform(train[feature])\n",
    "    test[feature] = lbe.transform(test[feature])\n",
    "    lbe_list.append(lbe)"
   ]
  },
  {
   "cell_type": "markdown",
   "id": "d1ccf3ed-9ec2-4b04-aa9f-073c37a054d9",
   "metadata": {},
   "source": [
    "# 划分训练集/测试集"
   ]
  },
  {
   "cell_type": "code",
   "execution_count": null,
   "id": "79ce8a9e-2ec3-4798-9934-85f42bc70576",
   "metadata": {},
   "outputs": [],
   "source": [
    "from sklearn.model_selection import train_test_split\n",
    "\n",
    "X_train, X_test, y_train, y_test = train_test_split(\n",
    "    train_data, train_target, test_size=0.4, random_state=0, stratify=y_train\n",
    ")\n",
    "# train_data：所要划分的样本特征集(不含label)\n",
    "# train_target：所要划分的样本结果\n",
    "# test_size：样本占比，如果是整数的话就是样本的数量\n",
    "# random_state：是随机数的种子。\n",
    "    # 随机数种子：其实就是该组随机数的编号，在需要重复试验的时候，保证得到一组一样的随机数。比如你每次都填1，其他参数一样的情况下你得到的随机数组是一样的。但填0或不填，每次都会不一样。\n",
    "\n",
    "# stratify是为了保持split前, 数据的分布。(分层)\n",
    "    # 比如有100个数据，80个属于A类，20个属于B类。(比例 4:1)\n",
    "    # 如果train_test_split(... test_size=0.25, stratify = y_all), 那么split之后数据如下：\n",
    "    # training: 75个数据，其中60个属于A类，15个属于B类。(比例 4:1)\n",
    "    # testing: 25个数据，其中20个属于A类，5个属于B类。(比例 4:1)\n",
    "    # 用了stratify参数，training集和testing集的A/B类的比例保持 A：B= 4：1，等同于split前的比例（80：20）。通常在这种类分布不平衡的情况下会用到stratify。\n",
    "# 将stratify=X就是按照X中的类别比例分配\n",
    "# 将stratify=y就是按照y中的类别比例分配"
   ]
  },
  {
   "cell_type": "markdown",
   "id": "7cbbbbc2-0e63-47d2-8f8d-44c2be01d5ac",
   "metadata": {},
   "source": [
    "# 模型"
   ]
  },
  {
   "cell_type": "markdown",
   "id": "8332fafd-b5d7-406d-8ba1-7ab59badb67f",
   "metadata": {},
   "source": [
    "## LR"
   ]
  },
  {
   "cell_type": "code",
   "execution_count": null,
   "id": "d6e6c977-a4f6-4458-aea3-369028353ae7",
   "metadata": {},
   "outputs": [],
   "source": [
    "from sklearn.linear_model.logistic import LogisticRegression\n",
    "\n",
    "model = LogisticRegression(max_iter=100, verbose=True, random_state=33, tol=1e-4)\n",
    "\n",
    "# 训练模型\n",
    "model.fit(X_train, y_train)\n",
    "\n",
    "# 预测, 结果只取lable为1的概率. 默认会返回每行(每个样本)预测为 0 & 1的概率.\n",
    "predict = model.predict_proba(test)[:, 1]"
   ]
  }
 ],
 "metadata": {
  "kernelspec": {
   "display_name": "Python 3",
   "language": "python",
   "name": "python3"
  },
  "language_info": {
   "codemirror_mode": {
    "name": "ipython",
    "version": 3
   },
   "file_extension": ".py",
   "mimetype": "text/x-python",
   "name": "python",
   "nbconvert_exporter": "python",
   "pygments_lexer": "ipython3",
   "version": "3.8.8"
  }
 },
 "nbformat": 4,
 "nbformat_minor": 5
}
