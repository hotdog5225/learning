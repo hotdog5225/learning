{
 "cells": [
  {
   "cell_type": "markdown",
   "id": "ff3b834e-77d0-4457-bee4-bf5aa2515957",
   "metadata": {},
   "source": [
    "# 数据处理"
   ]
  },
  {
   "cell_type": "code",
   "execution_count": 9,
   "id": "8b34bc12-f81d-41bf-b76f-ddeff046872d",
   "metadata": {},
   "outputs": [],
   "source": [
    "from tensorflow.keras.datasets import mnist\n",
    "\n",
    "from tensorflow.keras import layers\n",
    "from tensorflow.keras.layers import Conv2D, MaxPooling2D\n",
    "from tensorflow.keras.layers import Dense, Flatten\n",
    "\n",
    "from tensorflow.keras.models import Sequential\n",
    "\n",
    "import numpy as np"
   ]
  },
  {
   "cell_type": "markdown",
   "id": "65af252c-1d18-4963-9c5d-7d89b70c10d8",
   "metadata": {},
   "source": [
    "## 格式化"
   ]
  },
  {
   "cell_type": "code",
   "execution_count": null,
   "id": "fc385763-ea88-4912-a911-e06540278e3d",
   "metadata": {},
   "outputs": [],
   "source": [
    "# 输入数据为 mnist 数据集(黑白图片)\n",
    "# 格式化, 方便数据录入.  #黑白图片是1通道, rgb是3通道\n",
    "train_x = train_x.reshape(train_x.shape[0], 28, 28, 1) # reshape(样本数, 长, 宽, 通道数)\n",
    "test_x = test_x.reshape(test_x.shape[0], 28, 28, 1)\n",
    "\n",
    "# reshape结果\n",
    "# train_x.shape # (60000, 28, 28) 每个样本(图片)都是 28*28\n",
    "# # --------\n",
    "# train_x.shape # (60000, 28, 28, 1) 训练接多了一个维度 \"通道\"\n",
    "\n",
    "\n"
   ]
  },
  {
   "cell_type": "markdown",
   "id": "49499c42-1d20-4971-bf46-455ddd687e04",
   "metadata": {},
   "source": [
    "## 归一化"
   ]
  },
  {
   "cell_type": "code",
   "execution_count": null,
   "id": "5c19cbac-a816-47de-89cc-299649ae99bc",
   "metadata": {},
   "outputs": [],
   "source": [
    "# 归一化 (每个像素点都是0-255)\n",
    "train_x = train_x / 255 \n",
    "test_x = test_x / 255"
   ]
  },
  {
   "cell_type": "markdown",
   "id": "2c0c0d4c-2c39-46bb-95f8-b005b57f27fd",
   "metadata": {},
   "source": [
    "## one-hot label"
   ]
  },
  {
   "cell_type": "code",
   "execution_count": null,
   "id": "7828f47a-04d7-4979-9b03-6534f296ed10",
   "metadata": {},
   "outputs": [],
   "source": [
    "# 10分类(0-9), 我们用一个10维向量表示, 这样他们之间互相正交, 能够独立表示自己的信息, 不互相干扰.\n",
    "# 如果不用10维向量, 而用0-9, 则分类之间有大小关系, 这个是不合适的.\n",
    "train_y = tf.keras.utils.to_categorical(train_y, 10)\n",
    "test_y = tf.keras.utils.to_categorical(test_y, 10)\n",
    "\n",
    "# one-hot结果\n",
    "# train_y.shape # (60000,) 60000个label(分类值) 0-9\n",
    "# #-----\n",
    "# train_y.shape # (60000, 10) label由之前的数字, 变成了一个10维向量"
   ]
  }
 ],
 "metadata": {
  "kernelspec": {
   "display_name": "Python 3",
   "language": "python",
   "name": "python3"
  },
  "language_info": {
   "codemirror_mode": {
    "name": "ipython",
    "version": 3
   },
   "file_extension": ".py",
   "mimetype": "text/x-python",
   "name": "python",
   "nbconvert_exporter": "python",
   "pygments_lexer": "ipython3",
   "version": "3.8.8"
  }
 },
 "nbformat": 4,
 "nbformat_minor": 5
}
