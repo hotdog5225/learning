{
 "cells": [
  {
   "cell_type": "markdown",
   "id": "114772b5-09fe-4365-acb8-4763bb507cd8",
   "metadata": {},
   "source": [
    "<img width=700 src=\"./img/all_is_object.png\" title=\"type object class关系\"></img>"
   ]
  },
  {
   "cell_type": "code",
   "execution_count": 1,
   "id": "bfaa9b77-a30d-45af-8fcf-e90acf3680d6",
   "metadata": {},
   "outputs": [
    {
     "name": "stdout",
     "output_type": "stream",
     "text": [
      "hello\n",
      "person\n",
      "hello\n",
      "person\n",
      "hello\n"
     ]
    }
   ],
   "source": [
    "# 函数和类也是对象object，属于python的一等公民\n",
    "# \t1. 赋值给一个变量\n",
    "# \t2. 可以添加到集合对象中\n",
    "# \t3. 可以作为参数传递给函数\n",
    "# \t4. 可以当做函数的返回值\n",
    "\n",
    "# \t1. 赋值给一个变量\n",
    "def func():\n",
    "    print(\"hello\")\n",
    "my_func = func\n",
    "my_func()\n",
    "\n",
    "class Person:\n",
    "    def __init__(self):\n",
    "        print(\"person\")\n",
    "my_class = Person\n",
    "my_class()\n",
    "\n",
    "# \t2. 可以添加到集合对象中\n",
    "my_list = []\n",
    "my_list.append(my_func)\n",
    "my_list.append(my_class)\n",
    "for item in my_list:\n",
    "    item()\n",
    "\n",
    "# \t3. 可以作为参数传递给函数\n",
    "def func2(Person):\n",
    "    p = Person()\n",
    "\n",
    "# \t4. 可以当做函数的返回值\n",
    "def my_decorate_func():\n",
    "    return my_func\n",
    "decorate_func = my_decorate_func()\n",
    "decorate_func()\n"
   ]
  },
  {
   "cell_type": "code",
   "execution_count": null,
   "id": "1af15e1f-cfce-4b26-8514-552de6c25b3a",
   "metadata": {},
   "outputs": [],
   "source": []
  }
 ],
 "metadata": {
  "kernelspec": {
   "display_name": "Python 3",
   "language": "python",
   "name": "python3"
  },
  "language_info": {
   "codemirror_mode": {
    "name": "ipython",
    "version": 3
   },
   "file_extension": ".py",
   "mimetype": "text/x-python",
   "name": "python",
   "nbconvert_exporter": "python",
   "pygments_lexer": "ipython3",
   "version": "3.8.8"
  }
 },
 "nbformat": 4,
 "nbformat_minor": 5
}
