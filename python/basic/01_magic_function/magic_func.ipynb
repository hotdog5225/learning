{
 "cells": [
  {
   "cell_type": "markdown",
   "id": "861362a2-90a9-4b8c-8f60-9a6f9c6ef4a9",
   "metadata": {},
   "source": [
    "# 非数学运算"
   ]
  },
  {
   "cell_type": "markdown",
   "id": "0a3f0061-c32d-4a4c-b610-a5a5a91e98b7",
   "metadata": {},
   "source": [
    "## 字符串"
   ]
  },
  {
   "cell_type": "code",
   "execution_count": 6,
   "id": "d0cd0675-33cc-493e-9bbb-c659b1bec78b",
   "metadata": {},
   "outputs": [
    {
     "name": "stdout",
     "output_type": "stream",
     "text": [
      "__str__ called: foo,bar\n"
     ]
    },
    {
     "data": {
      "text/plain": [
       "__repr__ called: foo,bar"
      ]
     },
     "execution_count": 6,
     "metadata": {},
     "output_type": "execute_result"
    }
   ],
   "source": [
    "class Company:\n",
    "    def __init__(self, employee_list):\n",
    "        self.employee = employee_list\n",
    "        \n",
    "    def __str__(self):\n",
    "        return \"__str__ called: \" + ','.join(self.employee)\n",
    "    \n",
    "    def __repr__(self):\n",
    "        return \"__repr__ called: \" + ','.join(self.employee)\n",
    "    \n",
    "company = Company([\"foo\", \"bar\"])\n",
    "\n",
    "# \"print(company)\" will call \"str(c)\" implicitely, which will call \"__str__\"\n",
    "print(company)\n",
    "\n",
    "# dev mode, will call \"__repr__\"\n",
    "company"
   ]
  },
  {
   "cell_type": "markdown",
   "id": "03721fe3-64e5-407d-be70-f6a63ebfa29f",
   "metadata": {},
   "source": [
    "# 数学运算"
   ]
  },
  {
   "cell_type": "markdown",
   "id": "419de2d6-9707-4044-bea4-ba4ad546427d",
   "metadata": {},
   "source": [
    "## 一元运算符"
   ]
  },
  {
   "cell_type": "code",
   "execution_count": 12,
   "id": "644a6595-27f8-4518-bea4-e1aa9327ead9",
   "metadata": {},
   "outputs": [
    {
     "data": {
      "text/plain": [
       "1"
      ]
     },
     "execution_count": 12,
     "metadata": {},
     "output_type": "execute_result"
    }
   ],
   "source": [
    "class Number:\n",
    "    def __init__(self, member):\n",
    "        self.member = member\n",
    "        \n",
    "    def __abs__(self):\n",
    "        return abs(self.member)\n",
    "    \n",
    "number = Number(-1)\n",
    "\n",
    "# will call \"__abs__\"\n",
    "abs(number)"
   ]
  },
  {
   "cell_type": "markdown",
   "id": "3be96169-bfcf-4865-abfa-2746c448b1ef",
   "metadata": {},
   "source": [
    "## 二元运算符"
   ]
  },
  {
   "cell_type": "code",
   "execution_count": 13,
   "id": "82183944-2449-49f3-94fb-c08b3dc0d6cc",
   "metadata": {},
   "outputs": [
    {
     "name": "stdout",
     "output_type": "stream",
     "text": [
      "3\n"
     ]
    },
    {
     "data": {
      "text/plain": [
       "1"
      ]
     },
     "execution_count": 13,
     "metadata": {},
     "output_type": "execute_result"
    }
   ],
   "source": [
    "class Number:\n",
    "    def __init__(self, member):\n",
    "        self.member = member\n",
    "        \n",
    "    def __add__(self, other_number):\n",
    "        return self.member + other_number.member\n",
    "    \n",
    "number_one = Number(1)\n",
    "number_two = Number(2)\n",
    "\n",
    "# will call \"__add__\"\n",
    "print(number_one + number_two)\n"
   ]
  },
  {
   "cell_type": "code",
   "execution_count": null,
   "id": "c50d2d2a-8325-4e86-97b3-528cc8ae1129",
   "metadata": {},
   "outputs": [],
   "source": []
  }
 ],
 "metadata": {
  "kernelspec": {
   "display_name": "Python 3",
   "language": "python",
   "name": "python3"
  },
  "language_info": {
   "codemirror_mode": {
    "name": "ipython",
    "version": 3
   },
   "file_extension": ".py",
   "mimetype": "text/x-python",
   "name": "python",
   "nbconvert_exporter": "python",
   "pygments_lexer": "ipython3",
   "version": "3.8.8"
  }
 },
 "nbformat": 4,
 "nbformat_minor": 5
}
