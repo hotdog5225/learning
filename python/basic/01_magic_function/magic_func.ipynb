{
 "cells": [
  {
   "cell_type": "markdown",
   "id": "861362a2-90a9-4b8c-8f60-9a6f9c6ef4a9",
   "metadata": {},
   "source": [
    "magic_function:\n",
    "- 并非属于某个类或者对象, 也不是属于父类object, 是一个单独的存在, 通过魔法函数，能够增强（丰富）类的类型。\n",
    "- magic_function会影响python的语法（for），以及内置方法的使用（len）.\n",
    "\n",
    "**非数学运算:**"
   ]
  },
  {
   "cell_type": "code",
   "execution_count": null,
   "id": "d0cd0675-33cc-493e-9bbb-c659b1bec78b",
   "metadata": {
    "tags": []
   },
   "outputs": [],
   "source": [
    "class Company:\n",
    "    def __init__(self, employee_list):\n",
    "        self.employee = employee_list\n",
    "\n",
    "    def __getitem__(self, item):\n",
    "        # 传入一个下标\n",
    "        return self.employee[item]\n",
    "\n",
    "    def __str__(self):\n",
    "        # str()调用\n",
    "        return \"__str__ called: \" + \",\".join(self.employee)\n",
    "\n",
    "    def __repr__(self):\n",
    "        # dev mode调用\n",
    "        return \"__repr__ called: \" + \",\".join(self.employee)\n",
    "\n",
    "    def __len__(self):\n",
    "        # len()调用\n",
    "        return len(self.employee)\n",
    "\n",
    "\n",
    "company = Company([\"foo\", \"bar\"])\n",
    "\n",
    "# for, 默认调用__iter__, 如果没有这个魔法函数, 会调用__getitem__.\n",
    "for employee in company:\n",
    "    print(employee)\n",
    "\n",
    "# \"print(company)\" 默认调用str(company), 进而调用 __str__\n",
    "print(company)\n",
    "\n",
    "# dev mode, will call \"__repr__\"\n",
    "company\n",
    "\n",
    "print(len(company))"
   ]
  },
  {
   "cell_type": "markdown",
   "id": "d8445132",
   "metadata": {},
   "source": [
    "**数学运算:一元运算符**"
   ]
  },
  {
   "cell_type": "code",
   "execution_count": null,
   "id": "644a6595-27f8-4518-bea4-e1aa9327ead9",
   "metadata": {},
   "outputs": [],
   "source": [
    "class Number:\n",
    "    def __init__(self, member):\n",
    "        self.member = member\n",
    "\n",
    "    def __abs__(self):\n",
    "        return abs(self.member)\n",
    "\n",
    "\n",
    "number = Number(-1)\n",
    "\n",
    "# will call \"__abs__\"\n",
    "abs(number)"
   ]
  },
  {
   "cell_type": "markdown",
   "id": "3be96169-bfcf-4865-abfa-2746c448b1ef",
   "metadata": {},
   "source": [
    "**数学运算: 二元运算符**"
   ]
  },
  {
   "cell_type": "code",
   "execution_count": null,
   "id": "82183944-2449-49f3-94fb-c08b3dc0d6cc",
   "metadata": {
    "pycharm": {
     "name": "#%%\n"
    }
   },
   "outputs": [],
   "source": [
    "class Number:\n",
    "    def __init__(self, member):\n",
    "        self.member = member\n",
    "\n",
    "    def __add__(self, other_number):\n",
    "        return self.member + other_number.member\n",
    "\n",
    "\n",
    "number_one = Number(1)\n",
    "number_two = Number(2)\n",
    "\n",
    "# will call \"__add__\"\n",
    "print(number_one + number_two)"
   ]
  }
 ],
 "metadata": {
  "kernelspec": {
   "display_name": "Python 3",
   "language": "python",
   "name": "python3"
  },
  "language_info": {
   "codemirror_mode": {
    "name": "ipython",
    "version": 3
   },
   "file_extension": ".py",
   "mimetype": "text/x-python",
   "name": "python",
   "nbconvert_exporter": "python",
   "pygments_lexer": "ipython3",
   "version": "3.8.8"
  }
 },
 "nbformat": 4,
 "nbformat_minor": 5
}
