{
 "cells": [
  {
   "cell_type": "code",
   "id": "35483d0a-608f-4781-8f9d-e377499948ae",
   "metadata": {
    "pycharm": {
     "name": "#%%\n"
    }
   },
   "source": [
    "# 3.3 魔法函数一览\n",
    "# \t3.3.1 非数学运算\n",
    "# \t\t字符串表示\n",
    "# \t\t\t__repr__\n",
    "# \t\t\t__str__\n",
    "# \t\t集合、序列相关\n",
    "# \t\t\t__len__\n",
    "# \t\t\t__getitem__\n",
    "# \t\t\t__setitem__\n",
    "# \t\t\t__delitem__\n",
    "# \t\t\t__contains__\n",
    "# \t\t迭代相关\n",
    "# \t\t\t__iter__\n",
    "# \t\t\t__next__\n",
    "# \t\t可调用\n",
    "# \t\t\t__call__\n",
    "# \t\twith上下文管理器\n",
    "# \t\t\t__enter__\n",
    "# \t\t\t__exit__\n",
    "# \t\t数值转换\n",
    "# \t\t\t__abs__\n",
    "# \t\t\t__bool__\n",
    "# \t\t\t__int__\n",
    "# \t\t\t__float__\n",
    "# \t\t\t__hash__\n",
    "# \t\t\t__index__\n",
    "# \t\t元类相关\n",
    "# \t\t\t__new__\n",
    "# \t\t\t__init__\n",
    "# \t\t属性相关\n",
    "# \t\t\t__getattr__、 __setattr__\n",
    "# \t\t\t__getattribute__、setattribute__\n",
    "# \t\t\t__dir__\n",
    "# \t\t属性描述符\n",
    "# \t\t\t__get__、__set__、 __delete__\n",
    "# \t\t协程\n",
    "# \t\t\t__await__、__aiter__、__anext__、__aenter__、__aexit__\n",
    "# \t3.3.2 数学运算\n",
    "# \t\t一元运算符\n",
    "# \t\t\t__neg__（-）、__pos__（+）、__abs__\n",
    "# \t\t二元运算符\n",
    "# \t\t\t__lt__(<)、 __le__ <= 、 __eq__ == 、 __ne__ != 、 __gt__ > 、 __ge__ >=\n",
    "# \t\t算术运算符\n",
    "# \t\t\t__add__ + 、 __sub__ - 、 __mul__ * 、 __truediv__ / 、 __floordiv__ // 、 __\n",
    "# mod__ % 、 __divmod__ divmod() 、 __pow__ ** 或 pow() 、 __round__ round()\n",
    "# \t\t反向算术运算符\n",
    "# \t\t\t__radd__ 、 __rsub__ 、 __rmul__ 、 __rtruediv__ 、 __rfloordiv__ 、 __rmod__ 、\n",
    "# __rdivmod__ 、 __rpow__\n",
    "# \t\t增量赋值算术运算符\n",
    "# \t\t\t__iadd__ 、 __isub__ 、 __imul__ 、 __itruediv__ 、 __ifloordiv__ 、 __imod__ 、\n",
    "# __ipow__\n",
    "# \t\t位运算符\n",
    "# \t\t\t__invert__ ~ 、 __lshift__ << 、 __rshift__ >> 、 __and__ & 、 __or__ | 、 __\n",
    "# xor__ ^\n",
    "# \t\t反向位运算符\n",
    "# \t\t\t__rlshift__ 、 __rrshift__ 、 __rand__ 、 __rxor__ 、 __ror__\n",
    "# \t\t增量赋值位运算符\n",
    "# \t\t\t__ilshift__ 、 __irshift__ 、 __iand__ 、 __ixor__ 、 __ior__"
   ],
   "execution_count": null,
   "outputs": []
  }
 ],
 "metadata": {
  "kernelspec": {
   "display_name": "Python 3",
   "language": "python",
   "name": "python3"
  },
  "language_info": {
   "codemirror_mode": {
    "name": "ipython",
    "version": 3
   },
   "file_extension": ".py",
   "mimetype": "text/x-python",
   "name": "python",
   "nbconvert_exporter": "python",
   "pygments_lexer": "ipython3",
   "version": "3.8.8"
  }
 },
 "nbformat": 4,
 "nbformat_minor": 5
}