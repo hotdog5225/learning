{
 "cells": [
  {
   "cell_type": "markdown",
   "source": [
    "# 方式1: 通过Thread(), 实例化线程"
   ],
   "metadata": {
    "collapsed": false,
    "pycharm": {
     "name": "#%% md\n"
    }
   }
  },
  {
   "cell_type": "code",
   "execution_count": 6,
   "metadata": {
    "collapsed": true,
    "pycharm": {
     "name": "#%%\n"
    }
   },
   "outputs": [
    {
     "name": "stdout",
     "output_type": "stream",
     "text": [
      "get detail start\n",
      "get urls start\n",
      "get detail endget urls end\n",
      "\n",
      "time cost: 2.0058281421661377\n"
     ]
    }
   ],
   "source": [
    "'''\n",
    "实现Thread的方式1: 通过Thread()实例化\n",
    "'''\n",
    "\n",
    "import time\n",
    "import threading\n",
    "\n",
    "\n",
    "def get_detail(url):\n",
    "    print(\"get detail start\")\n",
    "    time.sleep(2)\n",
    "    print(\"get detail end\")\n",
    "\n",
    "\n",
    "def get_urls(url):\n",
    "    print(\"get urls start\")\n",
    "    time.sleep(2)\n",
    "    print(\"get urls end\")\n",
    "\n",
    "\n",
    "if __name__ == '__main__':\n",
    "    thread1 = threading.Thread(target=get_detail, args=(\"\",))\n",
    "    thread2 = threading.Thread(target=get_urls, args=(\"\",))\n",
    "\n",
    "    '''\n",
    "    # Daemon守护线程, 当主线程退出时, 守护线程自动退出\n",
    "    # thread1.setDaemon(True)\n",
    "    # thread2.setDaemon(True)\n",
    "    '''\n",
    "\n",
    "    start_time = time.time()\n",
    "\n",
    "    thread1.start()\n",
    "    thread2.start()\n",
    "\n",
    "    # 主线程阻塞, 等待子线程完成\n",
    "    thread1.join()\n",
    "    thread2.join()\n",
    "\n",
    "    print(\"time cost: {}\".format(time.time() - start_time))"
   ]
  },
  {
   "cell_type": "markdown",
   "source": [
    "# 方式2: 构造线程类(通过继承Thread)\n"
   ],
   "metadata": {
    "collapsed": false,
    "pycharm": {
     "name": "#%% md\n"
    }
   }
  },
  {
   "cell_type": "code",
   "execution_count": 8,
   "outputs": [
    {
     "name": "stdout",
     "output_type": "stream",
     "text": [
      "get urls startget detail start\n",
      "\n",
      "get urls endget detail end\n",
      "\n",
      "time cost: 2.003804922103882\n"
     ]
    }
   ],
   "source": [
    "'''\n",
    "2. 实现方式2: 通过继承Thread类, 覆写run方法\n",
    "'''\n",
    "import threading\n",
    "import time\n",
    "\n",
    "\n",
    "# 继承threading.Thread类\n",
    "class GetUrls(threading.Thread):\n",
    "    # 给线程自定义名字\n",
    "    def __init__(self, name):\n",
    "        super().__init__(name=name)\n",
    "\n",
    "    def run(self):\n",
    "        print(\"get urls start\")\n",
    "        time.sleep(2)\n",
    "        print(\"get urls end\")\n",
    "\n",
    "\n",
    "# 继承threading.Thread类\n",
    "class GetDetail(threading.Thread):\n",
    "    # 给线程自定义名字\n",
    "    def __init__(self, name):\n",
    "        super().__init__(name=name)\n",
    "\n",
    "    def run(self):\n",
    "        print(\"get detail start\")\n",
    "        time.sleep(2)\n",
    "        print(\"get detail end\")\n",
    "\n",
    "\n",
    "if __name__ == '__main__':\n",
    "    thread1 = GetUrls(\"get_url\")\n",
    "    thread2 = GetDetail(\"get_detail\")\n",
    "\n",
    "    start_time = time.time()\n",
    "\n",
    "    thread1.start()\n",
    "    thread2.start()\n",
    "\n",
    "    thread1.join()\n",
    "    thread2.join()\n",
    "\n",
    "    print(\"time cost: {}\".format(time.time() - start_time))"
   ],
   "metadata": {
    "collapsed": false,
    "pycharm": {
     "name": "#%%\n"
    }
   }
  }
 ],
 "metadata": {
  "kernelspec": {
   "display_name": "Python 3",
   "language": "python",
   "name": "python3"
  },
  "language_info": {
   "codemirror_mode": {
    "name": "ipython",
    "version": 2
   },
   "file_extension": ".py",
   "mimetype": "text/x-python",
   "name": "python",
   "nbconvert_exporter": "python",
   "pygments_lexer": "ipython2",
   "version": "2.7.6"
  }
 },
 "nbformat": 4,
 "nbformat_minor": 0
}