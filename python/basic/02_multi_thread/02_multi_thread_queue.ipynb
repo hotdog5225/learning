{
 "cells": [
  {
   "cell_type": "markdown",
   "source": [
    "# 进程间通信"
   ],
   "metadata": {
    "collapsed": false,
    "pycharm": {
     "name": "#%% md\n"
    }
   }
  },
  {
   "cell_type": "code",
   "execution_count": 1,
   "metadata": {
    "collapsed": true
   },
   "outputs": [
    {
     "name": "stdout",
     "output_type": "stream",
     "text": [
      ">>>>>>> get_urls>>>>>>> get_detail\n",
      "\n",
      ">>>>>>> get_detail\n",
      ">>>>>>> get_detail\n",
      ">>>>>>> get_detail\n",
      ">>>>>>> get_detail\n",
      ">>>>>>> get_detail>>>>>>> get_detail\n",
      "\n",
      ">>>>>>> get_detail\n",
      ">>>>>>> get_detail\n",
      ">>>>>>> get_detail\n",
      "https://test.com/0https://test.com/1https://test.com/2\n",
      "https://test.com/3\n",
      "https://test.com/4\n",
      "https://test.com/5\n",
      "\n",
      "https://test.com/6\n",
      "https://test.com/7\n",
      "https://test.com/8\n",
      "https://test.com/9\n",
      "https://test.com/10\n",
      "https://test.com/11\n",
      "https://test.com/12\n",
      "https://test.com/13\n",
      "https://test.com/14\n",
      "https://test.com/15\n",
      "https://test.com/16\n",
      "https://test.com/17\n",
      "https://test.com/18\n",
      "https://test.com/19\n",
      "\n",
      "time cost: 2.001271963119507\n"
     ]
    }
   ],
   "source": [
    "# 线程间通信\n",
    "from queue import Queue\n",
    "import time\n",
    "import threading\n",
    "\n",
    "\n",
    "def get_detail(url_queue):\n",
    "    print(\">>>>>>> get_detail\")\n",
    "    time.sleep(2)\n",
    "    while not url_queue.empty():\n",
    "        # get default is block\n",
    "        url = url_queue.get()\n",
    "        print(url)\n",
    "        # indicate this enqueued item has been gotten, and all work on this item is DONE\n",
    "        url_queue.task_done()\n",
    "\n",
    "\n",
    "def get_urls(queue):\n",
    "    print(\">>>>>>> get_urls\")\n",
    "    for i in range(20):\n",
    "        # default put is block\n",
    "        queue.put(\"https://test.com/{id}\".format(id=i))\n",
    "\n",
    "\n",
    "if __name__ == '__main__':\n",
    "    # 队列(线程安全)\n",
    "    url_queue = Queue(maxsize=1000)\n",
    "\n",
    "    # 起一个线程, 爬取url列表\n",
    "    thread1 = threading.Thread(target=get_urls, daemon=True, args=(url_queue,)).start()\n",
    "\n",
    "    # 起10个线程同时爬取详情页\n",
    "    for i in range(10):\n",
    "        get_detail_thread = threading.Thread(target=get_detail, daemon=True, args=(url_queue,)).start()\n",
    "\n",
    "    start_time = time.time()\n",
    "\n",
    "    # 主线程阻塞, 等待queue中的每个item都被gotten, 并且接收到了相应的task_done信号\n",
    "    url_queue.join()\n",
    "\n",
    "    print(\"time cost: {}\".format(time.time() - start_time))\n"
   ]
  }
 ],
 "metadata": {
  "kernelspec": {
   "display_name": "Python 3",
   "language": "python",
   "name": "python3"
  },
  "language_info": {
   "codemirror_mode": {
    "name": "ipython",
    "version": 2
   },
   "file_extension": ".py",
   "mimetype": "text/x-python",
   "name": "python",
   "nbconvert_exporter": "python",
   "pygments_lexer": "ipython2",
   "version": "2.7.6"
  }
 },
 "nbformat": 4,
 "nbformat_minor": 0
}