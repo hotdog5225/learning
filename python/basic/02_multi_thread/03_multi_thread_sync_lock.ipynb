{
 "cells": [
  {
   "cell_type": "markdown",
   "metadata": {
    "collapsed": true,
    "pycharm": {
     "name": "#%% md\n"
    }
   },
   "source": [
    "# 多线程同步: Lock / RLock"
   ]
  },
  {
   "cell_type": "code",
   "execution_count": 2,
   "outputs": [
    {
     "name": "stdout",
     "output_type": "stream",
     "text": [
      "0\n"
     ]
    }
   ],
   "source": [
    "# 1. 用Lock来解决线程之间的同步问题\n",
    "\n",
    "# RLock 可重入锁, 一个线程的内部, 可以多次acquire, 但是acquire和release的次数必须一致.\n",
    "from threading import RLock\n",
    "\n",
    "from threading import Lock\n",
    "\n",
    "from threading import Thread\n",
    "\n",
    "total = 0\n",
    "# generate a lock\n",
    "lock = Lock()\n",
    "\n",
    "# generate a rlock\n",
    "rlock = RLock()\n",
    "\n",
    "def add():\n",
    "    global total\n",
    "    for i in range(100000):\n",
    "        # get lock\n",
    "        lock.acquire()\n",
    "        total += 1\n",
    "        # release lock\n",
    "        lock.release()\n",
    "\n",
    "        # get rlock the first time\n",
    "        rlock.acquire()\n",
    "        # get rlock the second time\n",
    "        rlock.acquire()\n",
    "        # print(\"do something..\")\n",
    "        # release rlock the first time\n",
    "        rlock.release()\n",
    "        # release rlock the second time\n",
    "        rlock.release()\n",
    "\n",
    "def desc():\n",
    "    global total\n",
    "    for i in range(100000):\n",
    "        # get lock\n",
    "        lock.acquire()\n",
    "        total -= 1\n",
    "        # release lock\n",
    "        lock.release()\n",
    "\n",
    "if __name__ == '__main__':\n",
    "    thread1 = Thread(target=add, daemon=True)\n",
    "    thread2 = Thread(target=desc, daemon=True)\n",
    "\n",
    "    thread1.start()\n",
    "    thread2.start()\n",
    "\n",
    "    thread1.join()\n",
    "    thread2.join()\n",
    "\n",
    "    print(total)\n"
   ],
   "metadata": {
    "collapsed": false,
    "pycharm": {
     "name": "#%%\n"
    }
   }
  }
 ],
 "metadata": {
  "kernelspec": {
   "display_name": "Python 3",
   "language": "python",
   "name": "python3"
  },
  "language_info": {
   "codemirror_mode": {
    "name": "ipython",
    "version": 2
   },
   "file_extension": ".py",
   "mimetype": "text/x-python",
   "name": "python",
   "nbconvert_exporter": "python",
   "pygments_lexer": "ipython2",
   "version": "2.7.6"
  }
 },
 "nbformat": 4,
 "nbformat_minor": 0
}