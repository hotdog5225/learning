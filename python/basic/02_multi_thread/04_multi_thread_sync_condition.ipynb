{
 "cells": [
  {
   "cell_type": "markdown",
   "metadata": {
    "collapsed": true,
    "pycharm": {
     "name": "#%% md\n"
    }
   },
   "source": [
    "# 多线程同步: Condition"
   ]
  },
  {
   "cell_type": "code",
   "execution_count": 1,
   "outputs": [
    {
     "name": "stdout",
     "output_type": "stream",
     "text": [
      "小爱同学\n",
      "在\n",
      "我们来对古诗吧?\n",
      "好呀\n"
     ]
    }
   ],
   "source": [
    "from threading import Thread\n",
    "# 条件变量\n",
    "from threading import Condition\n",
    "\n",
    "class TiamMaoJingLing(Thread):\n",
    "    def __init__(self, cond):\n",
    "        super().__init__(name=\"天猫精灵\")\n",
    "        self.cond = cond\n",
    "\n",
    "    def run(self):\n",
    "        # 下面这句话是执行wait/notify的前提.\n",
    "        # with就是调用了__enter__方法, 结束后执行__exit__方法\n",
    "        with self.cond:\n",
    "            print(\"小爱同学\")\n",
    "            # 唤醒最近等待的一个wait()线程\n",
    "            self.cond.notify()\n",
    "            # 阻塞, 等待notify将其唤醒\n",
    "            self.cond.wait()\n",
    "\n",
    "            print(\"我们来对古诗吧?\")\n",
    "            self.cond.notify()\n",
    "            self.cond.wait()\n",
    "\n",
    "class XiaoAiTongXue(Thread):\n",
    "    def __init__(self, cond):\n",
    "        super().__init__(name=\"小爱同学\")\n",
    "        self.cond = cond\n",
    "\n",
    "    def run(self):\n",
    "        with self.cond:\n",
    "            self.cond.wait()\n",
    "            print(\"在\")\n",
    "            self.cond.notify()\n",
    "\n",
    "\n",
    "            self.cond.wait()\n",
    "            print(\"好呀\")\n",
    "            self.cond.notify()\n",
    "\n",
    "if __name__ == '__main__':\n",
    "    cond = Condition()\n",
    "\n",
    "    tianmao_thread = TiamMaoJingLing(cond)\n",
    "    xiaoai_thread = XiaoAiTongXue(cond)\n",
    "\n",
    "    # 启动顺序很重要\n",
    "    # 首先要启动xiaoai_thread, 因为xiaoai_thread先启动self.cond.wait()方法. 用于接收notify信号\n",
    "    xiaoai_thread.start()\n",
    "    tianmao_thread.start()\n"
   ],
   "metadata": {
    "collapsed": false,
    "pycharm": {
     "name": "#%%\n"
    }
   }
  }
 ],
 "metadata": {
  "kernelspec": {
   "display_name": "Python 3",
   "language": "python",
   "name": "python3"
  },
  "language_info": {
   "codemirror_mode": {
    "name": "ipython",
    "version": 2
   },
   "file_extension": ".py",
   "mimetype": "text/x-python",
   "name": "python",
   "nbconvert_exporter": "python",
   "pygments_lexer": "ipython2",
   "version": "2.7.6"
  }
 },
 "nbformat": 4,
 "nbformat_minor": 0
}