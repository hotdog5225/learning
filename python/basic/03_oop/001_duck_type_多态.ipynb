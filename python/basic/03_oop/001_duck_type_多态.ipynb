{
 "cells": [
  {
   "cell_type": "markdown",
   "metadata": {
    "pycharm": {
     "name": "#%% md\n"
    }
   },
   "source": [
    "# ducktype\n",
    "\n",
    "duck_type的意思是说, 一个类是什么类型(e.g. `序列类型..`), 支持什么操作(e.g. `分片`), 就看它**实现了什么魔法函数**(e.g. `__getitem__`)"
   ]
  },
  {
   "cell_type": "markdown",
   "metadata": {
    "pycharm": {
     "name": "#%% md\n"
    }
   },
   "source": [
    "# 多态\n",
    "\n",
    "python的多态: python是动态语言, 变量没有类型, 可以指向任何东西.\n",
    "即**python天然的就支持多态**"
   ]
  },
  {
   "cell_type": "code",
   "execution_count": 2,
   "metadata": {
    "collapsed": false,
    "jupyter": {
     "outputs_hidden": false
    },
    "pycharm": {
     "name": "#%%\n"
    }
   },
   "outputs": [
    {
     "name": "stdout",
     "output_type": "stream",
     "text": [
      "cat: meow..\n",
      "dog: wow...\n"
     ]
    }
   ],
   "source": [
    "class Cat():\n",
    "    def sing(self):\n",
    "        print(\"cat: meow..\")\n",
    "\n",
    "class Dog():\n",
    "    def sing(self):\n",
    "        print(\"dog: wow...\")\n",
    "\n",
    "# 多态: animal可以指向任何类型的数据\n",
    "def animal_sing(animal):\n",
    "    animal.sing()\n",
    "\n",
    "animal_sing(Cat())\n",
    "animal_sing(Dog())\n"
   ]
  }
 ],
 "metadata": {
  "kernelspec": {
   "display_name": "Python 3",
   "language": "python",
   "name": "python3"
  },
  "language_info": {
   "codemirror_mode": {
    "name": "ipython",
    "version": 3
   },
   "file_extension": ".py",
   "mimetype": "text/x-python",
   "name": "python",
   "nbconvert_exporter": "python",
   "pygments_lexer": "ipython3",
   "version": "3.8.8"
  },
  "toc-showmarkdowntxt": false
 },
 "nbformat": 4,
 "nbformat_minor": 4
}