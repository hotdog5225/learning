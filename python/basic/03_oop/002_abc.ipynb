{
 "cells": [
  {
   "cell_type": "markdown",
   "metadata": {},
   "source": [
    "# ABC(abstrct base class 抽象基类)\n",
    "\n",
    "用途:\n",
    "\n",
    "1. 判断某个类是否实现了某个魔术方法(即某个类是否为某个ABC类型)\n",
    "2. ABC作为接口, 规定其子类必须实现的方法."
   ]
  },
  {
   "cell_type": "code",
   "execution_count": 1,
   "metadata": {
    "collapsed": false,
    "jupyter": {
     "outputs_hidden": false
    },
    "pycharm": {
     "name": "#%%\n"
    }
   },
   "outputs": [
    {
     "data": {
      "text/plain": [
       "True"
      ]
     },
     "execution_count": 1,
     "metadata": {},
     "output_type": "execute_result"
    }
   ],
   "source": [
    "# 判断某个类是否实现了某些魔术方法. 比如ABC类型Sized, 就必须实现__len__魔法函数\n",
    "\n",
    "class Company():\n",
    "    def __init__(self, employee):\n",
    "        self.employee = employee\n",
    "\n",
    "    def __len__(self):\n",
    "        return len(employee)\n",
    "\n",
    "# collections.abc 预置了很多abc类型, 这个不是用来继承的, 而是用来查看各个abc的必须实现的魔法函数有哪些.\n",
    "from collections.abc import Sized\n",
    "\n",
    "# isinstance可以检查继承连. 子类对象的类型即是子类, 也是父类.\n",
    "isinstance(Company(['foo', 'bar']), Sized) # True, 实现了__len__魔法函数"
   ]
  },
  {
   "cell_type": "code",
   "execution_count": null,
   "metadata": {
    "collapsed": false,
    "jupyter": {
     "outputs_hidden": false
    },
    "pycharm": {
     "name": "#%%\n"
    }
   },
   "outputs": [],
   "source": [
    "# 创建一个abc(类似接口), 规定必须实现的方法\n",
    "from abc import ABCMeta\n",
    "from abc import abstractmethod\n",
    "\n",
    "# 创建一个ABC\n",
    "class ABCClass(metaclass=ABCMeta):\n",
    "    @abstractmethod\n",
    "    def method1(self):\n",
    "        pass\n",
    "\n",
    "    @abstractmethod\n",
    "    def method2(self):\n",
    "        pass\n",
    "\n",
    "# 继承ABC, 必须实现abstractmethod.\n",
    "class MyClass(ABCClass):\n",
    "    pass\n",
    "\n",
    "\n",
    "MyClass() # TypeError: Can't instantiate abstract class MyClass with abstract methods method1, method2\n"
   ]
  },
  {
   "cell_type": "code",
   "execution_count": null,
   "metadata": {
    "collapsed": true,
    "jupyter": {
     "outputs_hidden": true
    }
   },
   "outputs": [],
   "source": []
  }
 ],
 "metadata": {
  "kernelspec": {
   "display_name": "Python 3",
   "language": "python",
   "name": "python3"
  },
  "language_info": {
   "codemirror_mode": {
    "name": "ipython",
    "version": 3
   },
   "file_extension": ".py",
   "mimetype": "text/x-python",
   "name": "python",
   "nbconvert_exporter": "python",
   "pygments_lexer": "ipython3",
   "version": "3.8.8"
  }
 },
 "nbformat": 4,
 "nbformat_minor": 4
}