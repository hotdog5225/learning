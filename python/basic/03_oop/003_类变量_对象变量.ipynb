{
 "cells": [
  {
   "cell_type": "markdown",
   "metadata": {
    "pycharm": {
     "name": "#%% md\n"
    }
   },
   "source": [
    "1. 类变量所有对象共享\n",
    "2. `对象.var` 访问的时候, 先查找对象是否有对应的变量, 如果没有, 再访问类的变量.\n",
    "3. `对象.var = SomeValue`, 会自动给对象新增一个SomeVlaue属性, 而不是修改类变量.\n",
    "4. 如果需要修改类变量, 只能通过`类.var = SomeValue` 来修改."
   ]
  },
  {
   "cell_type": "code",
   "execution_count": 4,
   "metadata": {
    "collapsed": false,
    "jupyter": {
     "outputs_hidden": false
    },
    "pycharm": {
     "name": "#%%\n"
    }
   },
   "outputs": [
    {
     "name": "stdout",
     "output_type": "stream",
     "text": [
      "1 2 3\n",
      "1\n",
      "100\n",
      "1\n"
     ]
    }
   ],
   "source": [
    "import hashlib\n",
    "\n",
    "\n",
    "class TestClass():\n",
    "    aa = 1\n",
    "    def __init__(self, bb, cc):\n",
    "        self.bb = 2\n",
    "        self.cc = 3\n",
    "\n",
    "t = TestClass(3,4)\n",
    "# 见1, 2\n",
    "print(t.aa, t.bb, t.cc)\n",
    "print(TestClass.aa)\n",
    "\n",
    "# 见3\n",
    "t.aa = 100\n",
    "print(t.aa) # 对象新增属性aa\n",
    "print(TestClass.aa)\n",
    "\n",
    "# 见4\n",
    "TestClass.aa = 1000 # 修改类变量"
   ]
  },
  {
   "cell_type": "markdown",
   "metadata": {
    "jupyter": {
     "outputs_hidden": false
    },
    "pycharm": {
     "name": "#%%\n"
    }
   },
   "source": [
    "# 属性查找顺序"
   ]
  },
  {
   "cell_type": "markdown",
   "metadata": {
    "pycharm": {
     "name": "#%%\n"
    }
   },
   "source": [
    "<img src=\"./pic/mro.png\" width=\"50%\"></img>"
   ]
  },
  {
   "cell_type": "code",
   "execution_count": null,
   "metadata": {},
   "outputs": [],
   "source": []
  }
 ],
 "metadata": {
  "kernelspec": {
   "display_name": "Python 3",
   "language": "python",
   "name": "python3"
  },
  "language_info": {
   "codemirror_mode": {
    "name": "ipython",
    "version": 3
   },
   "file_extension": ".py",
   "mimetype": "text/x-python",
   "name": "python",
   "nbconvert_exporter": "python",
   "pygments_lexer": "ipython3",
   "version": "3.8.8"
  }
 },
 "nbformat": 4,
 "nbformat_minor": 4
}