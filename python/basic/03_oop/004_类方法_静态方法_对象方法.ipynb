{
 "cells": [
  {
   "cell_type": "markdown",
   "id": "88e4279e-b1bd-4c03-afe8-1b019deb02a4",
   "metadata": {},
   "source": [
    "# 类方法 & 静态方法 & 实例方法"
   ]
  },
  {
   "cell_type": "code",
   "execution_count": 4,
   "id": "fef1314b-e5f1-4f2a-b41e-20ea422f5d38",
   "metadata": {},
   "outputs": [
    {
     "name": "stdout",
     "output_type": "stream",
     "text": [
      "True\n",
      "1\n"
     ]
    }
   ],
   "source": [
    "class TestClass():\n",
    "    def __init__(self, x):\n",
    "        self.x = x\n",
    "        return \n",
    "\n",
    "    # 实例方法 : 第一个参数:实例 self\n",
    "    def get_x(self):\n",
    "        return self.x\n",
    "    \n",
    "    # 静态方法: 需要类对象或者实例对象\n",
    "    @staticmethod\n",
    "    def validate_str(str):\n",
    "        return True\n",
    "    \n",
    "    # 类方法: 第一个参数为类对象 cls\n",
    "    @classmethod\n",
    "    def get_instance(cls, x):\n",
    "        return cls(x)\n",
    "\n",
    "# 1. @classmethod 第一个参数为类对象cls(可以使用别的名字, cls只不过是规范)\n",
    "t = TestClass.get_instance(1)\n",
    "\n",
    "# 2. @staticmethod 适用于不需要类对象的方法\n",
    "print(TestClass.validate_str(\"teststring\"))\n",
    "\n",
    "# 3. 实例方法\n",
    "print(t.get_x())"
   ]
  },
  {
   "cell_type": "code",
   "execution_count": null,
   "id": "526d7613-24d8-4803-ad73-3336061acd04",
   "metadata": {},
   "outputs": [],
   "source": []
  }
 ],
 "metadata": {
  "kernelspec": {
   "display_name": "Python 3",
   "language": "python",
   "name": "python3"
  },
  "language_info": {
   "codemirror_mode": {
    "name": "ipython",
    "version": 3
   },
   "file_extension": ".py",
   "mimetype": "text/x-python",
   "name": "python",
   "nbconvert_exporter": "python",
   "pygments_lexer": "ipython3",
   "version": "3.8.8"
  }
 },
 "nbformat": 4,
 "nbformat_minor": 5
}
