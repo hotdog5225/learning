{
 "cells": [
  {
   "cell_type": "code",
   "execution_count": 4,
   "metadata": {
    "collapsed": true
   },
   "outputs": [
    {
     "name": "stdout",
     "output_type": "stream",
     "text": [
      "birthday_father\n",
      "birthday_child\n"
     ]
    }
   ],
   "source": [
    "class Father:\n",
    "    def __init__(self, birthday):\n",
    "        self.__birthday = birthday\n",
    "\n",
    "class Child(Father):\n",
    "    def __init__(self, birthday):\n",
    "        # 和Father类不是一个__birthday\n",
    "        self.__birthday = birthday\n",
    "\n",
    "if __name__ == '__main__':\n",
    "    f = Father(\"birthday_father\")\n",
    "    c = Child(\"birthday_child\")\n",
    "\n",
    "    # print(f.__birthday) # AttributeError: 'Father' object has no attribute '__birthday'\n",
    "    print(f._Father__birthday) # _ClassName__privateMemName\n",
    "\n",
    "    print(c._Child__birthday) # _ClassName__privateMemName"
   ]
  }
 ],
 "metadata": {
  "kernelspec": {
   "display_name": "Python 3",
   "language": "python",
   "name": "python3"
  },
  "language_info": {
   "codemirror_mode": {
    "name": "ipython",
    "version": 2
   },
   "file_extension": ".py",
   "mimetype": "text/x-python",
   "name": "python",
   "nbconvert_exporter": "python",
   "pygments_lexer": "ipython2",
   "version": "2.7.6"
  }
 },
 "nbformat": 4,
 "nbformat_minor": 0
}