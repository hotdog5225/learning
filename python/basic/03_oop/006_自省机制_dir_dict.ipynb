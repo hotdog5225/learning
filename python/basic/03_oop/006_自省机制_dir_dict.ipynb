{
 "cells": [
  {
   "cell_type": "code",
   "execution_count": 4,
   "metadata": {
    "collapsed": true
   },
   "outputs": [
    {
     "name": "stdout",
     "output_type": "stream",
     "text": [
      "{'user': 'user'}\n",
      "{'user': 'user', 'new_attr': 'new_attr'}\n",
      "{'__module__': '__main__', '__init__': <function TestClass.__init__ at 0x7fe3c1949310>, '__dict__': <attribute '__dict__' of 'TestClass' objects>, '__weakref__': <attribute '__weakref__' of 'TestClass' objects>, '__doc__': None}\n",
      "['__class__', '__delattr__', '__dict__', '__dir__', '__doc__', '__eq__', '__format__', '__ge__', '__getattribute__', '__gt__', '__hash__', '__init__', '__init_subclass__', '__le__', '__lt__', '__module__', '__ne__', '__new__', '__reduce__', '__reduce_ex__', '__repr__', '__setattr__', '__sizeof__', '__str__', '__subclasshook__', '__weakref__', 'new_attr', 'user']\n"
     ]
    }
   ],
   "source": [
    "class TestClass():\n",
    "    def __init__(self):\n",
    "        self.user = \"user\"\n",
    "\n",
    "if __name__ == '__main__':\n",
    "    t = TestClass()\n",
    "    # 查看实例的属性\n",
    "    print(t.__dict__) # {'user': 'user'}\n",
    "    # 添加实例属性\n",
    "    t.__dict__[\"new_attr\"] = \"new_attr\"\n",
    "    print(t.__dict__) # {'user': 'user', 'new_attr': 'new_attr'}\n",
    "\n",
    "    # 查看类的属性\n",
    "    print(TestClass.__dict__)\n",
    "\n",
    "    # 查看属性Key\n",
    "    print(dir(t))"
   ]
  },
  {
   "cell_type": "code",
   "execution_count": null,
   "outputs": [],
   "source": [],
   "metadata": {
    "collapsed": false,
    "pycharm": {
     "name": "#%%\n"
    }
   }
  }
 ],
 "metadata": {
  "kernelspec": {
   "display_name": "Python 3",
   "language": "python",
   "name": "python3"
  },
  "language_info": {
   "codemirror_mode": {
    "name": "ipython",
    "version": 2
   },
   "file_extension": ".py",
   "mimetype": "text/x-python",
   "name": "python",
   "nbconvert_exporter": "python",
   "pygments_lexer": "ipython2",
   "version": "2.7.6"
  }
 },
 "nbformat": 4,
 "nbformat_minor": 0
}