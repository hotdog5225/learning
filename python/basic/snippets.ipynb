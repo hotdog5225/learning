{
 "cells": [
  {
   "cell_type": "code",
   "execution_count": 1,
   "metadata": {
    "collapsed": true
   },
   "outputs": [
    {
     "name": "stdout",
     "output_type": "stream",
     "text": [
      "uid is 1\n",
      "uid is 1\n",
      "uid is 1\n"
     ]
    }
   ],
   "source": [
    "'''\n",
    "格式化字符串\n",
    "'''\n",
    "\n",
    "uid = 1\n",
    "print(f\"uid is {uid}\")\n",
    "\n",
    "print(\"uid is {}\".format(uid))\n",
    "print(\"uid is {uid}\".format(uid=uid))"
   ]
  },
  {
   "cell_type": "code",
   "execution_count": 3,
   "outputs": [
    {
     "name": "stdout",
     "output_type": "stream",
     "text": [
      "[1, 2, 4]\n"
     ]
    }
   ],
   "source": [
    "'''\n",
    "列表操作\n",
    "'''\n",
    "\n",
    "# 列表去重\n",
    "l = [1, 2, 4, 1]\n",
    "l = list(dict.fromkeys(l))\n",
    "print(l)"
   ],
   "metadata": {
    "collapsed": false,
    "pycharm": {
     "name": "#%%\n"
    }
   }
  },
  {
   "cell_type": "code",
   "execution_count": null,
   "outputs": [],
   "source": [],
   "metadata": {
    "collapsed": false,
    "pycharm": {
     "name": "#%%\n"
    }
   }
  }
 ],
 "metadata": {
  "kernelspec": {
   "display_name": "Python 3",
   "language": "python",
   "name": "python3"
  },
  "language_info": {
   "codemirror_mode": {
    "name": "ipython",
    "version": 2
   },
   "file_extension": ".py",
   "mimetype": "text/x-python",
   "name": "python",
   "nbconvert_exporter": "python",
   "pygments_lexer": "ipython2",
   "version": "2.7.6"
  }
 },
 "nbformat": 4,
 "nbformat_minor": 0
}