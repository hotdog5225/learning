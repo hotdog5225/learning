{
 "cells": [
  {
   "cell_type": "code",
   "execution_count": 7,
   "metadata": {
    "collapsed": true
   },
   "outputs": [
    {
     "name": "stdout",
     "output_type": "stream",
     "text": [
      "<generator object Executor.map.<locals>.result_iterator at 0x7fd340c0a2e0>\n",
      "[1, 4, 9]\n"
     ]
    }
   ],
   "source": [
    "import concurrent.futures\n",
    "\n",
    "'''\n",
    "线程池\n",
    "'''\n",
    "\n",
    "num_list = [1,2,3]\n",
    "# 构建线程池实例\n",
    "with concurrent.futures.ThreadPoolExecutor() as executor:\n",
    "    # 多线程, 每个线程将一个num --> num*num\n",
    "    result = executor.map(lambda x: x*x, num_list) # generator\n",
    "    result = list(result)\n",
    "    print(result) # [1, 4, 9]"
   ]
  },
  {
   "cell_type": "code",
   "execution_count": null,
   "outputs": [],
   "source": [],
   "metadata": {
    "collapsed": false,
    "pycharm": {
     "name": "#%%\n"
    }
   }
  }
 ],
 "metadata": {
  "kernelspec": {
   "display_name": "Python 3",
   "language": "python",
   "name": "python3"
  },
  "language_info": {
   "codemirror_mode": {
    "name": "ipython",
    "version": 2
   },
   "file_extension": ".py",
   "mimetype": "text/x-python",
   "name": "python",
   "nbconvert_exporter": "python",
   "pygments_lexer": "ipython2",
   "version": "2.7.6"
  }
 },
 "nbformat": 4,
 "nbformat_minor": 0
}